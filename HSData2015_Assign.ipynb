{
  "nbformat": 4,
  "nbformat_minor": 0,
  "metadata": {
    "colab": {
      "name": "HSData2015_Assign.ipynb",
      "provenance": []
    },
    "kernelspec": {
      "name": "python3",
      "display_name": "Python 3"
    }
  },
  "cells": [
    {
      "cell_type": "markdown",
      "metadata": {
        "id": "a4r0Eer_hEja",
        "colab_type": "text"
      },
      "source": [
        "# HSData2015_Assign\n",
        "Please Submit via the Google form (Notice the 8 assignment tasks at the end of the notebook):\n",
        "\n",
        "\n",
        "CSC 1895: Intro to Data Science - Response 5\n",
        "\n",
        "by the beginning of class on \n",
        "\n",
        "Tuesday - September 24, 2019"
      ]
    },
    {
      "cell_type": "code",
      "metadata": {
        "id": "xjpmveG4hrSY",
        "colab_type": "code",
        "colab": {}
      },
      "source": [
        "#import python packages for input/output and for data analytics\n",
        "import io\n",
        "import pandas as pd"
      ],
      "execution_count": 0,
      "outputs": []
    },
    {
      "cell_type": "code",
      "metadata": {
        "id": "N85J3hMlhvQ_",
        "colab_type": "code",
        "outputId": "de1f00a3-b55a-42fc-d510-45806ee14d73",
        "colab": {
          "resources": {
            "http://localhost:8080/nbextensions/google.colab/files.js": {
              "data": "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",
              "ok": true,
              "headers": [
                [
                  "content-type",
                  "application/javascript"
                ]
              ],
              "status": 200,
              "status_text": ""
            }
          },
          "base_uri": "https://localhost:8080/",
          "height": 71
        }
      },
      "source": [
        "# import HSData2015.xlsx, \n",
        "# Note: Often you will need to run the cell twice to avoid error messages\n",
        "# This is a Google issue\n",
        "from google.colab import files\n",
        "uploaded = files.upload()"
      ],
      "execution_count": 0,
      "outputs": [
        {
          "output_type": "display_data",
          "data": {
            "text/html": [
              "\n",
              "     <input type=\"file\" id=\"files-cd5d7a54-a109-438e-be37-d0ea2d62806e\" name=\"files[]\" multiple disabled />\n",
              "     <output id=\"result-cd5d7a54-a109-438e-be37-d0ea2d62806e\">\n",
              "      Upload widget is only available when the cell has been executed in the\n",
              "      current browser session. Please rerun this cell to enable.\n",
              "      </output>\n",
              "      <script src=\"/nbextensions/google.colab/files.js\"></script> "
            ],
            "text/plain": [
              "<IPython.core.display.HTML object>"
            ]
          },
          "metadata": {
            "tags": []
          }
        },
        {
          "output_type": "stream",
          "text": [
            "Saving HSData2015.xlsx to HSData2015.xlsx\n"
          ],
          "name": "stdout"
        }
      ]
    },
    {
      "cell_type": "markdown",
      "metadata": {
        "id": "47v5-qByLr7E",
        "colab_type": "text"
      },
      "source": [
        "## Read the file into a Pandas Dataframe"
      ]
    },
    {
      "cell_type": "code",
      "metadata": {
        "id": "ITBplgxiLlZe",
        "colab_type": "code",
        "colab": {}
      },
      "source": [
        "# Read the data file into a pandas dataframe (Spreadsheet).\n",
        "# Name the dataframe HSData2015\n",
        "filename = 'HSData2015.xlsx'\n",
        "HSData2015 = pd.read_excel(io.BytesIO(uploaded[filename]))"
      ],
      "execution_count": 0,
      "outputs": []
    },
    {
      "cell_type": "markdown",
      "metadata": {
        "id": "-2JeDYKbkbhl",
        "colab_type": "text"
      },
      "source": [
        "## Inspect the Dataframe to begin to understand what information is contained."
      ]
    },
    {
      "cell_type": "code",
      "metadata": {
        "id": "SB5EZWi1Ll70",
        "colab_type": "code",
        "outputId": "1cb02cd0-dec6-49de-8f52-f5718e46dea1",
        "colab": {
          "base_uri": "https://localhost:8080/",
          "height": 360
        }
      },
      "source": [
        "# View the first 5 rows of the new HSData2015 dataframe\n",
        "HSData2015.head()"
      ],
      "execution_count": 0,
      "outputs": [
        {
          "output_type": "execute_result",
          "data": {
            "text/html": [
              "<div>\n",
              "<style scoped>\n",
              "    .dataframe tbody tr th:only-of-type {\n",
              "        vertical-align: middle;\n",
              "    }\n",
              "\n",
              "    .dataframe tbody tr th {\n",
              "        vertical-align: top;\n",
              "    }\n",
              "\n",
              "    .dataframe thead th {\n",
              "        text-align: right;\n",
              "    }\n",
              "</style>\n",
              "<table border=\"1\" class=\"dataframe\">\n",
              "  <thead>\n",
              "    <tr style=\"text-align: right;\">\n",
              "      <th></th>\n",
              "      <th>year</th>\n",
              "      <th>district</th>\n",
              "      <th>district_name</th>\n",
              "      <th>school_name</th>\n",
              "      <th>school_id</th>\n",
              "      <th>grades_served</th>\n",
              "      <th>safe_school</th>\n",
              "      <th>average_daily_membership</th>\n",
              "      <th>total</th>\n",
              "      <th>white</th>\n",
              "      <th>african_american</th>\n",
              "      <th>hispanic</th>\n",
              "      <th>asian</th>\n",
              "      <th>native_american</th>\n",
              "      <th>hawaiian_pacisld</th>\n",
              "      <th>male</th>\n",
              "      <th>female</th>\n",
              "      <th>white_pct</th>\n",
              "      <th>african_american_pct</th>\n",
              "      <th>hispanic_pct</th>\n",
              "      <th>asian_pct</th>\n",
              "      <th>native_american_pct</th>\n",
              "      <th>hawaiian_pacisld_pct</th>\n",
              "      <th>male_pct</th>\n",
              "      <th>female_pct</th>\n",
              "      <th>white_male</th>\n",
              "      <th>african_american_male</th>\n",
              "      <th>hispanic_male</th>\n",
              "      <th>asian_male</th>\n",
              "      <th>native_american_male</th>\n",
              "      <th>hawaiian_pacisld_male</th>\n",
              "      <th>white_female</th>\n",
              "      <th>african_american_female</th>\n",
              "      <th>hispanic_female</th>\n",
              "      <th>asian_female</th>\n",
              "      <th>native_american_female</th>\n",
              "      <th>hawaiian_pacisld_female</th>\n",
              "      <th>limited_english_proficient_pct</th>\n",
              "      <th>limited_english_proficient</th>\n",
              "      <th>number_exempt_from_reading_assessment</th>\n",
              "      <th>students_with_disabilities</th>\n",
              "      <th>students_with_disabilities_pct</th>\n",
              "      <th>economically_disadvantaged</th>\n",
              "      <th>economically_disadvantaged_pct</th>\n",
              "      <th>attendance_rate_pct</th>\n",
              "      <th>cohort_dropout__pct</th>\n",
              "      <th>graduation_rate_nclb_pct</th>\n",
              "      <th>event_dropout_pct</th>\n",
              "      <th>all_grad_rate</th>\n",
              "      <th>white_grad_rate</th>\n",
              "      <th>african_american_grad_rate</th>\n",
              "      <th>hispanic_grad_rate</th>\n",
              "      <th>asian_grad_rate</th>\n",
              "      <th>native_american_grad_rate</th>\n",
              "      <th>hawaiian_pacisld_grad_rate</th>\n",
              "      <th>male_grad_rate</th>\n",
              "      <th>female_grad_rate</th>\n",
              "      <th>economically_disadvantaged_grad_rate</th>\n",
              "      <th>students_with_disabilities_grad_rate</th>\n",
              "      <th>limited_english_proficient_grad_rate</th>\n",
              "      <th>act_3yr_composite</th>\n",
              "      <th>act_3yr_english</th>\n",
              "      <th>act_3yr_math</th>\n",
              "      <th>act_3yr_reading</th>\n",
              "      <th>act_3yr_science</th>\n",
              "      <th>act_1yr_composite</th>\n",
              "      <th>act_1yr_english</th>\n",
              "      <th>act_1yr_math</th>\n",
              "      <th>act_1yr_reading</th>\n",
              "      <th>act_1yr_science</th>\n",
              "    </tr>\n",
              "  </thead>\n",
              "  <tbody>\n",
              "    <tr>\n",
              "      <th>0</th>\n",
              "      <td>2015</td>\n",
              "      <td>10</td>\n",
              "      <td>Anderson County</td>\n",
              "      <td>Anderson County High School</td>\n",
              "      <td>2</td>\n",
              "      <td>Grades 9-12</td>\n",
              "      <td>SAFE SCHOOL</td>\n",
              "      <td>1040.0</td>\n",
              "      <td>1058.0</td>\n",
              "      <td>1039.0</td>\n",
              "      <td>5.0</td>\n",
              "      <td>3.0</td>\n",
              "      <td>5.0</td>\n",
              "      <td>6.0</td>\n",
              "      <td>NaN</td>\n",
              "      <td>537.0</td>\n",
              "      <td>521.0</td>\n",
              "      <td>98.204159</td>\n",
              "      <td>0.47259</td>\n",
              "      <td>0.283554</td>\n",
              "      <td>0.472590</td>\n",
              "      <td>0.567108</td>\n",
              "      <td>NaN</td>\n",
              "      <td>50.756144</td>\n",
              "      <td>49.243856</td>\n",
              "      <td>525.0</td>\n",
              "      <td>3.0</td>\n",
              "      <td>3.0</td>\n",
              "      <td>3.0</td>\n",
              "      <td>3.0</td>\n",
              "      <td>NaN</td>\n",
              "      <td>514.0</td>\n",
              "      <td>2.0</td>\n",
              "      <td>NaN</td>\n",
              "      <td>2.0</td>\n",
              "      <td>3.0</td>\n",
              "      <td>NaN</td>\n",
              "      <td>NaN</td>\n",
              "      <td>NaN</td>\n",
              "      <td>NaN</td>\n",
              "      <td>137.0</td>\n",
              "      <td>12.948960</td>\n",
              "      <td>465.0</td>\n",
              "      <td>43.950851</td>\n",
              "      <td>95.384615</td>\n",
              "      <td>1.659751</td>\n",
              "      <td>97.925311</td>\n",
              "      <td>0.699301</td>\n",
              "      <td>97.925311</td>\n",
              "      <td>97.899160</td>\n",
              "      <td>NaN</td>\n",
              "      <td>100.0</td>\n",
              "      <td>100.000000</td>\n",
              "      <td>100.0</td>\n",
              "      <td>NaN</td>\n",
              "      <td>97.478992</td>\n",
              "      <td>98.360656</td>\n",
              "      <td>96.428571</td>\n",
              "      <td>96.969697</td>\n",
              "      <td>NaN</td>\n",
              "      <td>19.5</td>\n",
              "      <td>18.9</td>\n",
              "      <td>19.5</td>\n",
              "      <td>19.4</td>\n",
              "      <td>19.7</td>\n",
              "      <td>20.0</td>\n",
              "      <td>19.9</td>\n",
              "      <td>19.4</td>\n",
              "      <td>20.2</td>\n",
              "      <td>19.9</td>\n",
              "    </tr>\n",
              "    <tr>\n",
              "      <th>1</th>\n",
              "      <td>2015</td>\n",
              "      <td>10</td>\n",
              "      <td>Anderson County</td>\n",
              "      <td>Anderson County Career  Technical Center</td>\n",
              "      <td>3</td>\n",
              "      <td>Grades 9-12</td>\n",
              "      <td>SAFE SCHOOL</td>\n",
              "      <td>NaN</td>\n",
              "      <td>NaN</td>\n",
              "      <td>NaN</td>\n",
              "      <td>NaN</td>\n",
              "      <td>NaN</td>\n",
              "      <td>NaN</td>\n",
              "      <td>NaN</td>\n",
              "      <td>NaN</td>\n",
              "      <td>NaN</td>\n",
              "      <td>NaN</td>\n",
              "      <td>NaN</td>\n",
              "      <td>NaN</td>\n",
              "      <td>NaN</td>\n",
              "      <td>NaN</td>\n",
              "      <td>NaN</td>\n",
              "      <td>NaN</td>\n",
              "      <td>NaN</td>\n",
              "      <td>NaN</td>\n",
              "      <td>NaN</td>\n",
              "      <td>NaN</td>\n",
              "      <td>NaN</td>\n",
              "      <td>NaN</td>\n",
              "      <td>NaN</td>\n",
              "      <td>NaN</td>\n",
              "      <td>NaN</td>\n",
              "      <td>NaN</td>\n",
              "      <td>NaN</td>\n",
              "      <td>NaN</td>\n",
              "      <td>NaN</td>\n",
              "      <td>NaN</td>\n",
              "      <td>NaN</td>\n",
              "      <td>NaN</td>\n",
              "      <td>NaN</td>\n",
              "      <td>NaN</td>\n",
              "      <td>NaN</td>\n",
              "      <td>NaN</td>\n",
              "      <td>NaN</td>\n",
              "      <td>NaN</td>\n",
              "      <td>NaN</td>\n",
              "      <td>NaN</td>\n",
              "      <td>NaN</td>\n",
              "      <td>NaN</td>\n",
              "      <td>NaN</td>\n",
              "      <td>NaN</td>\n",
              "      <td>NaN</td>\n",
              "      <td>NaN</td>\n",
              "      <td>NaN</td>\n",
              "      <td>NaN</td>\n",
              "      <td>NaN</td>\n",
              "      <td>NaN</td>\n",
              "      <td>NaN</td>\n",
              "      <td>NaN</td>\n",
              "      <td>NaN</td>\n",
              "      <td>NaN</td>\n",
              "      <td>NaN</td>\n",
              "      <td>NaN</td>\n",
              "      <td>NaN</td>\n",
              "      <td>NaN</td>\n",
              "      <td>NaN</td>\n",
              "      <td>NaN</td>\n",
              "      <td>NaN</td>\n",
              "      <td>NaN</td>\n",
              "      <td>NaN</td>\n",
              "    </tr>\n",
              "    <tr>\n",
              "      <th>2</th>\n",
              "      <td>2015</td>\n",
              "      <td>10</td>\n",
              "      <td>Anderson County</td>\n",
              "      <td>Clinton High School</td>\n",
              "      <td>25</td>\n",
              "      <td>Grades 9-12</td>\n",
              "      <td>SAFE SCHOOL</td>\n",
              "      <td>1091.0</td>\n",
              "      <td>1113.0</td>\n",
              "      <td>1031.0</td>\n",
              "      <td>59.0</td>\n",
              "      <td>12.0</td>\n",
              "      <td>6.0</td>\n",
              "      <td>5.0</td>\n",
              "      <td>NaN</td>\n",
              "      <td>581.0</td>\n",
              "      <td>532.0</td>\n",
              "      <td>92.632525</td>\n",
              "      <td>5.30099</td>\n",
              "      <td>1.078167</td>\n",
              "      <td>0.539084</td>\n",
              "      <td>0.449236</td>\n",
              "      <td>NaN</td>\n",
              "      <td>52.201258</td>\n",
              "      <td>47.798742</td>\n",
              "      <td>541.0</td>\n",
              "      <td>29.0</td>\n",
              "      <td>6.0</td>\n",
              "      <td>3.0</td>\n",
              "      <td>2.0</td>\n",
              "      <td>NaN</td>\n",
              "      <td>490.0</td>\n",
              "      <td>30.0</td>\n",
              "      <td>6.0</td>\n",
              "      <td>3.0</td>\n",
              "      <td>3.0</td>\n",
              "      <td>NaN</td>\n",
              "      <td>0.179695</td>\n",
              "      <td>2.0</td>\n",
              "      <td>NaN</td>\n",
              "      <td>164.0</td>\n",
              "      <td>14.734951</td>\n",
              "      <td>561.0</td>\n",
              "      <td>50.404313</td>\n",
              "      <td>94.408799</td>\n",
              "      <td>2.564103</td>\n",
              "      <td>96.703297</td>\n",
              "      <td>1.099764</td>\n",
              "      <td>96.703297</td>\n",
              "      <td>96.862745</td>\n",
              "      <td>93.333333</td>\n",
              "      <td>100.0</td>\n",
              "      <td>100.000000</td>\n",
              "      <td>100.0</td>\n",
              "      <td>NaN</td>\n",
              "      <td>95.714286</td>\n",
              "      <td>97.744361</td>\n",
              "      <td>94.610778</td>\n",
              "      <td>90.000000</td>\n",
              "      <td>100.0</td>\n",
              "      <td>19.3</td>\n",
              "      <td>19.1</td>\n",
              "      <td>18.5</td>\n",
              "      <td>19.6</td>\n",
              "      <td>19.3</td>\n",
              "      <td>19.8</td>\n",
              "      <td>19.7</td>\n",
              "      <td>18.8</td>\n",
              "      <td>20.1</td>\n",
              "      <td>20.0</td>\n",
              "    </tr>\n",
              "    <tr>\n",
              "      <th>3</th>\n",
              "      <td>2015</td>\n",
              "      <td>12</td>\n",
              "      <td>Oak Ridge</td>\n",
              "      <td>Oak Ridge High School</td>\n",
              "      <td>35</td>\n",
              "      <td>Grades 9-12</td>\n",
              "      <td>SAFE SCHOOL</td>\n",
              "      <td>1374.0</td>\n",
              "      <td>1389.0</td>\n",
              "      <td>1023.0</td>\n",
              "      <td>208.0</td>\n",
              "      <td>92.0</td>\n",
              "      <td>57.0</td>\n",
              "      <td>6.0</td>\n",
              "      <td>3.0</td>\n",
              "      <td>703.0</td>\n",
              "      <td>686.0</td>\n",
              "      <td>73.650108</td>\n",
              "      <td>14.9748</td>\n",
              "      <td>6.623470</td>\n",
              "      <td>4.103672</td>\n",
              "      <td>0.431965</td>\n",
              "      <td>0.215983</td>\n",
              "      <td>50.611951</td>\n",
              "      <td>49.388049</td>\n",
              "      <td>520.0</td>\n",
              "      <td>103.0</td>\n",
              "      <td>50.0</td>\n",
              "      <td>29.0</td>\n",
              "      <td>1.0</td>\n",
              "      <td>NaN</td>\n",
              "      <td>503.0</td>\n",
              "      <td>105.0</td>\n",
              "      <td>42.0</td>\n",
              "      <td>28.0</td>\n",
              "      <td>5.0</td>\n",
              "      <td>3.0</td>\n",
              "      <td>1.007919</td>\n",
              "      <td>14.0</td>\n",
              "      <td>NaN</td>\n",
              "      <td>173.0</td>\n",
              "      <td>12.455004</td>\n",
              "      <td>535.0</td>\n",
              "      <td>38.572459</td>\n",
              "      <td>95.269287</td>\n",
              "      <td>2.727273</td>\n",
              "      <td>90.000000</td>\n",
              "      <td>0.990099</td>\n",
              "      <td>90.000000</td>\n",
              "      <td>91.902834</td>\n",
              "      <td>80.392157</td>\n",
              "      <td>95.0</td>\n",
              "      <td>81.818182</td>\n",
              "      <td>100.0</td>\n",
              "      <td>NaN</td>\n",
              "      <td>87.500000</td>\n",
              "      <td>92.857143</td>\n",
              "      <td>82.307692</td>\n",
              "      <td>82.692308</td>\n",
              "      <td>75.0</td>\n",
              "      <td>23.0</td>\n",
              "      <td>22.8</td>\n",
              "      <td>22.6</td>\n",
              "      <td>23.3</td>\n",
              "      <td>22.8</td>\n",
              "      <td>23.1</td>\n",
              "      <td>22.9</td>\n",
              "      <td>22.4</td>\n",
              "      <td>23.6</td>\n",
              "      <td>22.9</td>\n",
              "    </tr>\n",
              "    <tr>\n",
              "      <th>4</th>\n",
              "      <td>2015</td>\n",
              "      <td>20</td>\n",
              "      <td>Bedford County</td>\n",
              "      <td>Cascade High School</td>\n",
              "      <td>13</td>\n",
              "      <td>Grades 9-12</td>\n",
              "      <td>SAFE SCHOOL</td>\n",
              "      <td>536.0</td>\n",
              "      <td>533.0</td>\n",
              "      <td>464.0</td>\n",
              "      <td>25.0</td>\n",
              "      <td>29.0</td>\n",
              "      <td>7.0</td>\n",
              "      <td>8.0</td>\n",
              "      <td>NaN</td>\n",
              "      <td>296.0</td>\n",
              "      <td>237.0</td>\n",
              "      <td>87.054409</td>\n",
              "      <td>4.69043</td>\n",
              "      <td>5.440901</td>\n",
              "      <td>1.313321</td>\n",
              "      <td>1.500938</td>\n",
              "      <td>NaN</td>\n",
              "      <td>55.534709</td>\n",
              "      <td>44.465291</td>\n",
              "      <td>254.0</td>\n",
              "      <td>16.0</td>\n",
              "      <td>18.0</td>\n",
              "      <td>3.0</td>\n",
              "      <td>5.0</td>\n",
              "      <td>NaN</td>\n",
              "      <td>210.0</td>\n",
              "      <td>9.0</td>\n",
              "      <td>11.0</td>\n",
              "      <td>4.0</td>\n",
              "      <td>3.0</td>\n",
              "      <td>NaN</td>\n",
              "      <td>0.750469</td>\n",
              "      <td>4.0</td>\n",
              "      <td>NaN</td>\n",
              "      <td>54.0</td>\n",
              "      <td>10.131332</td>\n",
              "      <td>231.0</td>\n",
              "      <td>43.339587</td>\n",
              "      <td>94.962687</td>\n",
              "      <td>1.652893</td>\n",
              "      <td>95.041322</td>\n",
              "      <td>0.500835</td>\n",
              "      <td>95.041322</td>\n",
              "      <td>94.545455</td>\n",
              "      <td>100.000000</td>\n",
              "      <td>100.0</td>\n",
              "      <td>100.000000</td>\n",
              "      <td>100.0</td>\n",
              "      <td>NaN</td>\n",
              "      <td>93.333333</td>\n",
              "      <td>97.826087</td>\n",
              "      <td>92.537313</td>\n",
              "      <td>90.000000</td>\n",
              "      <td>NaN</td>\n",
              "      <td>19.0</td>\n",
              "      <td>18.6</td>\n",
              "      <td>18.5</td>\n",
              "      <td>19.1</td>\n",
              "      <td>19.0</td>\n",
              "      <td>19.4</td>\n",
              "      <td>19.1</td>\n",
              "      <td>19.1</td>\n",
              "      <td>19.2</td>\n",
              "      <td>19.6</td>\n",
              "    </tr>\n",
              "  </tbody>\n",
              "</table>\n",
              "</div>"
            ],
            "text/plain": [
              "   year  district  ... act_1yr_reading act_1yr_science\n",
              "0  2015        10  ...            20.2            19.9\n",
              "1  2015        10  ...             NaN             NaN\n",
              "2  2015        10  ...            20.1            20.0\n",
              "3  2015        12  ...            23.6            22.9\n",
              "4  2015        20  ...            19.2            19.6\n",
              "\n",
              "[5 rows x 70 columns]"
            ]
          },
          "metadata": {
            "tags": []
          },
          "execution_count": 11
        }
      ]
    },
    {
      "cell_type": "markdown",
      "metadata": {
        "id": "n0nqz65rkjOu",
        "colab_type": "text"
      },
      "source": [
        "## Create a list of columns."
      ]
    },
    {
      "cell_type": "code",
      "metadata": {
        "id": "4GR6HtzPklHH",
        "colab_type": "code",
        "outputId": "674b41c5-62e6-4f6f-c187-1831633e526a",
        "colab": {
          "base_uri": "https://localhost:8080/",
          "height": 442
        }
      },
      "source": [
        "HSData2015.columns"
      ],
      "execution_count": 0,
      "outputs": [
        {
          "output_type": "execute_result",
          "data": {
            "text/plain": [
              "Index(['year', 'district', 'district_name', 'school_name', 'school_id',\n",
              "       'grades_served', 'safe_school', 'average_daily_membership', 'total',\n",
              "       'white', 'african_american', 'hispanic', 'asian', 'native_american',\n",
              "       'hawaiian_pacisld', 'male', 'female', 'white_pct',\n",
              "       'african_american_pct', 'hispanic_pct', 'asian_pct',\n",
              "       'native_american_pct', 'hawaiian_pacisld_pct', 'male_pct', 'female_pct',\n",
              "       'white_male', 'african_american_male', 'hispanic_male', 'asian_male',\n",
              "       'native_american_male', 'hawaiian_pacisld_male', 'white_female',\n",
              "       'african_american_female', 'hispanic_female', 'asian_female',\n",
              "       'native_american_female', 'hawaiian_pacisld_female',\n",
              "       'limited_english_proficient_pct', 'limited_english_proficient',\n",
              "       'number_exempt_from_reading_assessment', 'students_with_disabilities',\n",
              "       'students_with_disabilities_pct', 'economically_disadvantaged',\n",
              "       'economically_disadvantaged_pct', 'attendance_rate_pct',\n",
              "       'cohort_dropout__pct', 'graduation_rate_nclb_pct', 'event_dropout_pct',\n",
              "       'all_grad_rate', 'white_grad_rate', 'african_american_grad_rate',\n",
              "       'hispanic_grad_rate', 'asian_grad_rate', 'native_american_grad_rate',\n",
              "       'hawaiian_pacisld_grad_rate', 'male_grad_rate', 'female_grad_rate',\n",
              "       'economically_disadvantaged_grad_rate',\n",
              "       'students_with_disabilities_grad_rate',\n",
              "       'limited_english_proficient_grad_rate', 'act_3yr_composite',\n",
              "       'act_3yr_english', 'act_3yr_math', 'act_3yr_reading', 'act_3yr_science',\n",
              "       'act_1yr_composite', 'act_1yr_english', 'act_1yr_math',\n",
              "       'act_1yr_reading', 'act_1yr_science'],\n",
              "      dtype='object')"
            ]
          },
          "metadata": {
            "tags": []
          },
          "execution_count": 12
        }
      ]
    },
    {
      "cell_type": "markdown",
      "metadata": {
        "id": "-a_Cn0Hfkwrr",
        "colab_type": "text"
      },
      "source": [
        "## Create a list called 'Columns' and copy the above list into it.\n",
        "\n",
        "Then keep only the columns for which you have interest. \n"
      ]
    },
    {
      "cell_type": "code",
      "metadata": {
        "id": "wcP0R1z8lv3j",
        "colab_type": "code",
        "colab": {}
      },
      "source": [
        "Columns = ['district_name', 'school_name',\n",
        "       'total',\n",
        "       'white_pct',\n",
        "       'african_american_pct', 'hispanic_pct', 'asian_pct',\n",
        "       'limited_english_proficient_pct', \n",
        "       'students_with_disabilities_pct', \n",
        "       'economically_disadvantaged_pct', 'attendance_rate_pct',\n",
        "       'all_grad_rate', \n",
        "       'economically_disadvantaged_grad_rate',\n",
        "       'students_with_disabilities_grad_rate',\n",
        "       'limited_english_proficient_grad_rate', 'act_3yr_composite',\n",
        "       'act_3yr_english', 'act_3yr_math', 'act_3yr_reading', 'act_3yr_science',\n",
        "       ]"
      ],
      "execution_count": 0,
      "outputs": []
    },
    {
      "cell_type": "markdown",
      "metadata": {
        "id": "RxcXYcI-mi4C",
        "colab_type": "text"
      },
      "source": [
        "## Restrict your dataframe to only the columns selected above.\n",
        "\n",
        "And view a selection of 5 columns"
      ]
    },
    {
      "cell_type": "code",
      "metadata": {
        "id": "gSdgkn2_miDq",
        "colab_type": "code",
        "outputId": "5da5f922-1bae-4e35-e773-377ed6d87f19",
        "colab": {
          "base_uri": "https://localhost:8080/",
          "height": 360
        }
      },
      "source": [
        "HSData2015 = HSData2015[Columns]\n",
        "HSData2015.head()"
      ],
      "execution_count": 0,
      "outputs": [
        {
          "output_type": "execute_result",
          "data": {
            "text/html": [
              "<div>\n",
              "<style scoped>\n",
              "    .dataframe tbody tr th:only-of-type {\n",
              "        vertical-align: middle;\n",
              "    }\n",
              "\n",
              "    .dataframe tbody tr th {\n",
              "        vertical-align: top;\n",
              "    }\n",
              "\n",
              "    .dataframe thead th {\n",
              "        text-align: right;\n",
              "    }\n",
              "</style>\n",
              "<table border=\"1\" class=\"dataframe\">\n",
              "  <thead>\n",
              "    <tr style=\"text-align: right;\">\n",
              "      <th></th>\n",
              "      <th>district_name</th>\n",
              "      <th>school_name</th>\n",
              "      <th>total</th>\n",
              "      <th>white_pct</th>\n",
              "      <th>african_american_pct</th>\n",
              "      <th>hispanic_pct</th>\n",
              "      <th>asian_pct</th>\n",
              "      <th>limited_english_proficient_pct</th>\n",
              "      <th>students_with_disabilities_pct</th>\n",
              "      <th>economically_disadvantaged_pct</th>\n",
              "      <th>attendance_rate_pct</th>\n",
              "      <th>all_grad_rate</th>\n",
              "      <th>economically_disadvantaged_grad_rate</th>\n",
              "      <th>students_with_disabilities_grad_rate</th>\n",
              "      <th>limited_english_proficient_grad_rate</th>\n",
              "      <th>act_3yr_composite</th>\n",
              "      <th>act_3yr_english</th>\n",
              "      <th>act_3yr_math</th>\n",
              "      <th>act_3yr_reading</th>\n",
              "      <th>act_3yr_science</th>\n",
              "    </tr>\n",
              "  </thead>\n",
              "  <tbody>\n",
              "    <tr>\n",
              "      <th>0</th>\n",
              "      <td>Anderson County</td>\n",
              "      <td>Anderson County High School</td>\n",
              "      <td>1058.0</td>\n",
              "      <td>98.204159</td>\n",
              "      <td>0.47259</td>\n",
              "      <td>0.283554</td>\n",
              "      <td>0.472590</td>\n",
              "      <td>NaN</td>\n",
              "      <td>12.948960</td>\n",
              "      <td>43.950851</td>\n",
              "      <td>95.384615</td>\n",
              "      <td>97.925311</td>\n",
              "      <td>96.428571</td>\n",
              "      <td>96.969697</td>\n",
              "      <td>NaN</td>\n",
              "      <td>19.5</td>\n",
              "      <td>18.9</td>\n",
              "      <td>19.5</td>\n",
              "      <td>19.4</td>\n",
              "      <td>19.7</td>\n",
              "    </tr>\n",
              "    <tr>\n",
              "      <th>1</th>\n",
              "      <td>Anderson County</td>\n",
              "      <td>Anderson County Career  Technical Center</td>\n",
              "      <td>NaN</td>\n",
              "      <td>NaN</td>\n",
              "      <td>NaN</td>\n",
              "      <td>NaN</td>\n",
              "      <td>NaN</td>\n",
              "      <td>NaN</td>\n",
              "      <td>NaN</td>\n",
              "      <td>NaN</td>\n",
              "      <td>NaN</td>\n",
              "      <td>NaN</td>\n",
              "      <td>NaN</td>\n",
              "      <td>NaN</td>\n",
              "      <td>NaN</td>\n",
              "      <td>NaN</td>\n",
              "      <td>NaN</td>\n",
              "      <td>NaN</td>\n",
              "      <td>NaN</td>\n",
              "      <td>NaN</td>\n",
              "    </tr>\n",
              "    <tr>\n",
              "      <th>2</th>\n",
              "      <td>Anderson County</td>\n",
              "      <td>Clinton High School</td>\n",
              "      <td>1113.0</td>\n",
              "      <td>92.632525</td>\n",
              "      <td>5.30099</td>\n",
              "      <td>1.078167</td>\n",
              "      <td>0.539084</td>\n",
              "      <td>0.179695</td>\n",
              "      <td>14.734951</td>\n",
              "      <td>50.404313</td>\n",
              "      <td>94.408799</td>\n",
              "      <td>96.703297</td>\n",
              "      <td>94.610778</td>\n",
              "      <td>90.000000</td>\n",
              "      <td>100.0</td>\n",
              "      <td>19.3</td>\n",
              "      <td>19.1</td>\n",
              "      <td>18.5</td>\n",
              "      <td>19.6</td>\n",
              "      <td>19.3</td>\n",
              "    </tr>\n",
              "    <tr>\n",
              "      <th>3</th>\n",
              "      <td>Oak Ridge</td>\n",
              "      <td>Oak Ridge High School</td>\n",
              "      <td>1389.0</td>\n",
              "      <td>73.650108</td>\n",
              "      <td>14.9748</td>\n",
              "      <td>6.623470</td>\n",
              "      <td>4.103672</td>\n",
              "      <td>1.007919</td>\n",
              "      <td>12.455004</td>\n",
              "      <td>38.572459</td>\n",
              "      <td>95.269287</td>\n",
              "      <td>90.000000</td>\n",
              "      <td>82.307692</td>\n",
              "      <td>82.692308</td>\n",
              "      <td>75.0</td>\n",
              "      <td>23.0</td>\n",
              "      <td>22.8</td>\n",
              "      <td>22.6</td>\n",
              "      <td>23.3</td>\n",
              "      <td>22.8</td>\n",
              "    </tr>\n",
              "    <tr>\n",
              "      <th>4</th>\n",
              "      <td>Bedford County</td>\n",
              "      <td>Cascade High School</td>\n",
              "      <td>533.0</td>\n",
              "      <td>87.054409</td>\n",
              "      <td>4.69043</td>\n",
              "      <td>5.440901</td>\n",
              "      <td>1.313321</td>\n",
              "      <td>0.750469</td>\n",
              "      <td>10.131332</td>\n",
              "      <td>43.339587</td>\n",
              "      <td>94.962687</td>\n",
              "      <td>95.041322</td>\n",
              "      <td>92.537313</td>\n",
              "      <td>90.000000</td>\n",
              "      <td>NaN</td>\n",
              "      <td>19.0</td>\n",
              "      <td>18.6</td>\n",
              "      <td>18.5</td>\n",
              "      <td>19.1</td>\n",
              "      <td>19.0</td>\n",
              "    </tr>\n",
              "  </tbody>\n",
              "</table>\n",
              "</div>"
            ],
            "text/plain": [
              "     district_name  ... act_3yr_science\n",
              "0  Anderson County  ...            19.7\n",
              "1  Anderson County  ...             NaN\n",
              "2  Anderson County  ...            19.3\n",
              "3        Oak Ridge  ...            22.8\n",
              "4   Bedford County  ...            19.0\n",
              "\n",
              "[5 rows x 20 columns]"
            ]
          },
          "metadata": {
            "tags": []
          },
          "execution_count": 14
        }
      ]
    },
    {
      "cell_type": "markdown",
      "metadata": {
        "id": "ayJ8zcbRoCq5",
        "colab_type": "text"
      },
      "source": [
        "## Determine if there are schools where HSData2015['total'] is NaN"
      ]
    },
    {
      "cell_type": "code",
      "metadata": {
        "id": "DocI3LUBobEL",
        "colab_type": "code",
        "outputId": "833af4ad-2479-4acf-d430-130f8be043a0",
        "colab": {
          "base_uri": "https://localhost:8080/",
          "height": 1000
        }
      },
      "source": [
        "print(len(HSData2015[HSData2015['total'].isnull()]))\n",
        "HSData2015[HSData2015['total'].isnull()].head(20)\n"
      ],
      "execution_count": 0,
      "outputs": [
        {
          "output_type": "stream",
          "text": [
            "29\n"
          ],
          "name": "stdout"
        },
        {
          "output_type": "execute_result",
          "data": {
            "text/html": [
              "<div>\n",
              "<style scoped>\n",
              "    .dataframe tbody tr th:only-of-type {\n",
              "        vertical-align: middle;\n",
              "    }\n",
              "\n",
              "    .dataframe tbody tr th {\n",
              "        vertical-align: top;\n",
              "    }\n",
              "\n",
              "    .dataframe thead th {\n",
              "        text-align: right;\n",
              "    }\n",
              "</style>\n",
              "<table border=\"1\" class=\"dataframe\">\n",
              "  <thead>\n",
              "    <tr style=\"text-align: right;\">\n",
              "      <th></th>\n",
              "      <th>district_name</th>\n",
              "      <th>school_name</th>\n",
              "      <th>total</th>\n",
              "      <th>white_pct</th>\n",
              "      <th>african_american_pct</th>\n",
              "      <th>hispanic_pct</th>\n",
              "      <th>asian_pct</th>\n",
              "      <th>limited_english_proficient_pct</th>\n",
              "      <th>students_with_disabilities_pct</th>\n",
              "      <th>economically_disadvantaged_pct</th>\n",
              "      <th>attendance_rate_pct</th>\n",
              "      <th>all_grad_rate</th>\n",
              "      <th>economically_disadvantaged_grad_rate</th>\n",
              "      <th>students_with_disabilities_grad_rate</th>\n",
              "      <th>limited_english_proficient_grad_rate</th>\n",
              "      <th>act_3yr_composite</th>\n",
              "      <th>act_3yr_english</th>\n",
              "      <th>act_3yr_math</th>\n",
              "      <th>act_3yr_reading</th>\n",
              "      <th>act_3yr_science</th>\n",
              "    </tr>\n",
              "  </thead>\n",
              "  <tbody>\n",
              "    <tr>\n",
              "      <th>1</th>\n",
              "      <td>Anderson County</td>\n",
              "      <td>Anderson County Career  Technical Center</td>\n",
              "      <td>NaN</td>\n",
              "      <td>NaN</td>\n",
              "      <td>NaN</td>\n",
              "      <td>NaN</td>\n",
              "      <td>NaN</td>\n",
              "      <td>NaN</td>\n",
              "      <td>NaN</td>\n",
              "      <td>NaN</td>\n",
              "      <td>NaN</td>\n",
              "      <td>NaN</td>\n",
              "      <td>NaN</td>\n",
              "      <td>NaN</td>\n",
              "      <td>NaN</td>\n",
              "      <td>NaN</td>\n",
              "      <td>NaN</td>\n",
              "      <td>NaN</td>\n",
              "      <td>NaN</td>\n",
              "      <td>NaN</td>\n",
              "    </tr>\n",
              "    <tr>\n",
              "      <th>7</th>\n",
              "      <td>Benton County</td>\n",
              "      <td>Benton Co Adult High School</td>\n",
              "      <td>NaN</td>\n",
              "      <td>NaN</td>\n",
              "      <td>NaN</td>\n",
              "      <td>NaN</td>\n",
              "      <td>NaN</td>\n",
              "      <td>NaN</td>\n",
              "      <td>NaN</td>\n",
              "      <td>NaN</td>\n",
              "      <td>NaN</td>\n",
              "      <td>NaN</td>\n",
              "      <td>NaN</td>\n",
              "      <td>NaN</td>\n",
              "      <td>NaN</td>\n",
              "      <td>NaN</td>\n",
              "      <td>NaN</td>\n",
              "      <td>NaN</td>\n",
              "      <td>NaN</td>\n",
              "      <td>NaN</td>\n",
              "    </tr>\n",
              "    <tr>\n",
              "      <th>8</th>\n",
              "      <td>Benton County</td>\n",
              "      <td>Benton County Career / Technical Center</td>\n",
              "      <td>NaN</td>\n",
              "      <td>NaN</td>\n",
              "      <td>NaN</td>\n",
              "      <td>NaN</td>\n",
              "      <td>NaN</td>\n",
              "      <td>NaN</td>\n",
              "      <td>NaN</td>\n",
              "      <td>NaN</td>\n",
              "      <td>NaN</td>\n",
              "      <td>NaN</td>\n",
              "      <td>NaN</td>\n",
              "      <td>NaN</td>\n",
              "      <td>NaN</td>\n",
              "      <td>NaN</td>\n",
              "      <td>NaN</td>\n",
              "      <td>NaN</td>\n",
              "      <td>NaN</td>\n",
              "      <td>NaN</td>\n",
              "    </tr>\n",
              "    <tr>\n",
              "      <th>15</th>\n",
              "      <td>Bradley County</td>\n",
              "      <td>Reach Adult High School</td>\n",
              "      <td>NaN</td>\n",
              "      <td>NaN</td>\n",
              "      <td>NaN</td>\n",
              "      <td>NaN</td>\n",
              "      <td>NaN</td>\n",
              "      <td>NaN</td>\n",
              "      <td>NaN</td>\n",
              "      <td>NaN</td>\n",
              "      <td>NaN</td>\n",
              "      <td>NaN</td>\n",
              "      <td>NaN</td>\n",
              "      <td>NaN</td>\n",
              "      <td>NaN</td>\n",
              "      <td>NaN</td>\n",
              "      <td>NaN</td>\n",
              "      <td>NaN</td>\n",
              "      <td>NaN</td>\n",
              "      <td>NaN</td>\n",
              "    </tr>\n",
              "    <tr>\n",
              "      <th>18</th>\n",
              "      <td>Campbell County</td>\n",
              "      <td>Campbell Co Adult High School</td>\n",
              "      <td>NaN</td>\n",
              "      <td>NaN</td>\n",
              "      <td>NaN</td>\n",
              "      <td>NaN</td>\n",
              "      <td>NaN</td>\n",
              "      <td>NaN</td>\n",
              "      <td>NaN</td>\n",
              "      <td>NaN</td>\n",
              "      <td>NaN</td>\n",
              "      <td>NaN</td>\n",
              "      <td>NaN</td>\n",
              "      <td>NaN</td>\n",
              "      <td>NaN</td>\n",
              "      <td>NaN</td>\n",
              "      <td>NaN</td>\n",
              "      <td>NaN</td>\n",
              "      <td>NaN</td>\n",
              "      <td>NaN</td>\n",
              "    </tr>\n",
              "    <tr>\n",
              "      <th>29</th>\n",
              "      <td>Cheatham County</td>\n",
              "      <td>Cheatham Co Adult High School</td>\n",
              "      <td>NaN</td>\n",
              "      <td>NaN</td>\n",
              "      <td>NaN</td>\n",
              "      <td>NaN</td>\n",
              "      <td>NaN</td>\n",
              "      <td>NaN</td>\n",
              "      <td>NaN</td>\n",
              "      <td>NaN</td>\n",
              "      <td>NaN</td>\n",
              "      <td>NaN</td>\n",
              "      <td>NaN</td>\n",
              "      <td>NaN</td>\n",
              "      <td>NaN</td>\n",
              "      <td>NaN</td>\n",
              "      <td>NaN</td>\n",
              "      <td>NaN</td>\n",
              "      <td>NaN</td>\n",
              "      <td>NaN</td>\n",
              "    </tr>\n",
              "    <tr>\n",
              "      <th>33</th>\n",
              "      <td>Claiborne County</td>\n",
              "      <td>Claiborne Adult High School</td>\n",
              "      <td>NaN</td>\n",
              "      <td>NaN</td>\n",
              "      <td>NaN</td>\n",
              "      <td>NaN</td>\n",
              "      <td>NaN</td>\n",
              "      <td>NaN</td>\n",
              "      <td>NaN</td>\n",
              "      <td>NaN</td>\n",
              "      <td>NaN</td>\n",
              "      <td>NaN</td>\n",
              "      <td>NaN</td>\n",
              "      <td>NaN</td>\n",
              "      <td>NaN</td>\n",
              "      <td>NaN</td>\n",
              "      <td>NaN</td>\n",
              "      <td>NaN</td>\n",
              "      <td>NaN</td>\n",
              "      <td>NaN</td>\n",
              "    </tr>\n",
              "    <tr>\n",
              "      <th>37</th>\n",
              "      <td>Clay County</td>\n",
              "      <td>Clay Co Adult High School</td>\n",
              "      <td>NaN</td>\n",
              "      <td>NaN</td>\n",
              "      <td>NaN</td>\n",
              "      <td>NaN</td>\n",
              "      <td>NaN</td>\n",
              "      <td>NaN</td>\n",
              "      <td>NaN</td>\n",
              "      <td>NaN</td>\n",
              "      <td>NaN</td>\n",
              "      <td>NaN</td>\n",
              "      <td>NaN</td>\n",
              "      <td>NaN</td>\n",
              "      <td>NaN</td>\n",
              "      <td>NaN</td>\n",
              "      <td>NaN</td>\n",
              "      <td>NaN</td>\n",
              "      <td>NaN</td>\n",
              "      <td>NaN</td>\n",
              "    </tr>\n",
              "    <tr>\n",
              "      <th>72</th>\n",
              "      <td>Dickson County</td>\n",
              "      <td>Dickson County Adult High School</td>\n",
              "      <td>NaN</td>\n",
              "      <td>NaN</td>\n",
              "      <td>NaN</td>\n",
              "      <td>NaN</td>\n",
              "      <td>NaN</td>\n",
              "      <td>NaN</td>\n",
              "      <td>NaN</td>\n",
              "      <td>NaN</td>\n",
              "      <td>NaN</td>\n",
              "      <td>NaN</td>\n",
              "      <td>NaN</td>\n",
              "      <td>NaN</td>\n",
              "      <td>NaN</td>\n",
              "      <td>NaN</td>\n",
              "      <td>NaN</td>\n",
              "      <td>NaN</td>\n",
              "      <td>NaN</td>\n",
              "      <td>NaN</td>\n",
              "    </tr>\n",
              "    <tr>\n",
              "      <th>94</th>\n",
              "      <td>Grundy County</td>\n",
              "      <td>Grundy Academy</td>\n",
              "      <td>NaN</td>\n",
              "      <td>NaN</td>\n",
              "      <td>NaN</td>\n",
              "      <td>NaN</td>\n",
              "      <td>NaN</td>\n",
              "      <td>NaN</td>\n",
              "      <td>NaN</td>\n",
              "      <td>NaN</td>\n",
              "      <td>NaN</td>\n",
              "      <td>NaN</td>\n",
              "      <td>NaN</td>\n",
              "      <td>NaN</td>\n",
              "      <td>NaN</td>\n",
              "      <td>NaN</td>\n",
              "      <td>NaN</td>\n",
              "      <td>NaN</td>\n",
              "      <td>NaN</td>\n",
              "      <td>NaN</td>\n",
              "    </tr>\n",
              "    <tr>\n",
              "      <th>118</th>\n",
              "      <td>Houston County</td>\n",
              "      <td>Houston Co Adult High School</td>\n",
              "      <td>NaN</td>\n",
              "      <td>NaN</td>\n",
              "      <td>NaN</td>\n",
              "      <td>NaN</td>\n",
              "      <td>NaN</td>\n",
              "      <td>NaN</td>\n",
              "      <td>NaN</td>\n",
              "      <td>NaN</td>\n",
              "      <td>NaN</td>\n",
              "      <td>NaN</td>\n",
              "      <td>NaN</td>\n",
              "      <td>NaN</td>\n",
              "      <td>NaN</td>\n",
              "      <td>NaN</td>\n",
              "      <td>NaN</td>\n",
              "      <td>NaN</td>\n",
              "      <td>NaN</td>\n",
              "      <td>NaN</td>\n",
              "    </tr>\n",
              "    <tr>\n",
              "      <th>127</th>\n",
              "      <td>Knox County</td>\n",
              "      <td>Byington Solway Career and Technical Education...</td>\n",
              "      <td>NaN</td>\n",
              "      <td>NaN</td>\n",
              "      <td>NaN</td>\n",
              "      <td>NaN</td>\n",
              "      <td>NaN</td>\n",
              "      <td>NaN</td>\n",
              "      <td>NaN</td>\n",
              "      <td>NaN</td>\n",
              "      <td>NaN</td>\n",
              "      <td>NaN</td>\n",
              "      <td>NaN</td>\n",
              "      <td>NaN</td>\n",
              "      <td>NaN</td>\n",
              "      <td>NaN</td>\n",
              "      <td>NaN</td>\n",
              "      <td>NaN</td>\n",
              "      <td>NaN</td>\n",
              "      <td>NaN</td>\n",
              "    </tr>\n",
              "    <tr>\n",
              "      <th>137</th>\n",
              "      <td>Knox County</td>\n",
              "      <td>Lincoln Park Technology and Trade Center</td>\n",
              "      <td>NaN</td>\n",
              "      <td>NaN</td>\n",
              "      <td>NaN</td>\n",
              "      <td>NaN</td>\n",
              "      <td>NaN</td>\n",
              "      <td>NaN</td>\n",
              "      <td>NaN</td>\n",
              "      <td>NaN</td>\n",
              "      <td>NaN</td>\n",
              "      <td>NaN</td>\n",
              "      <td>NaN</td>\n",
              "      <td>NaN</td>\n",
              "      <td>NaN</td>\n",
              "      <td>NaN</td>\n",
              "      <td>NaN</td>\n",
              "      <td>NaN</td>\n",
              "      <td>NaN</td>\n",
              "      <td>NaN</td>\n",
              "    </tr>\n",
              "    <tr>\n",
              "      <th>144</th>\n",
              "      <td>Knox County</td>\n",
              "      <td>North Knox Career and Technical Education Center</td>\n",
              "      <td>NaN</td>\n",
              "      <td>NaN</td>\n",
              "      <td>NaN</td>\n",
              "      <td>NaN</td>\n",
              "      <td>NaN</td>\n",
              "      <td>NaN</td>\n",
              "      <td>NaN</td>\n",
              "      <td>NaN</td>\n",
              "      <td>NaN</td>\n",
              "      <td>NaN</td>\n",
              "      <td>NaN</td>\n",
              "      <td>NaN</td>\n",
              "      <td>NaN</td>\n",
              "      <td>NaN</td>\n",
              "      <td>NaN</td>\n",
              "      <td>NaN</td>\n",
              "      <td>NaN</td>\n",
              "      <td>NaN</td>\n",
              "    </tr>\n",
              "    <tr>\n",
              "      <th>148</th>\n",
              "      <td>Lawrence County</td>\n",
              "      <td>Lawrence Adult High School</td>\n",
              "      <td>NaN</td>\n",
              "      <td>NaN</td>\n",
              "      <td>NaN</td>\n",
              "      <td>NaN</td>\n",
              "      <td>NaN</td>\n",
              "      <td>NaN</td>\n",
              "      <td>NaN</td>\n",
              "      <td>NaN</td>\n",
              "      <td>NaN</td>\n",
              "      <td>NaN</td>\n",
              "      <td>NaN</td>\n",
              "      <td>NaN</td>\n",
              "      <td>NaN</td>\n",
              "      <td>18.0</td>\n",
              "      <td>18.0</td>\n",
              "      <td>15.0</td>\n",
              "      <td>22.5</td>\n",
              "      <td>16.5</td>\n",
              "    </tr>\n",
              "    <tr>\n",
              "      <th>187</th>\n",
              "      <td>Overton County</td>\n",
              "      <td>Overton Adult High School</td>\n",
              "      <td>NaN</td>\n",
              "      <td>NaN</td>\n",
              "      <td>NaN</td>\n",
              "      <td>NaN</td>\n",
              "      <td>NaN</td>\n",
              "      <td>NaN</td>\n",
              "      <td>NaN</td>\n",
              "      <td>NaN</td>\n",
              "      <td>NaN</td>\n",
              "      <td>NaN</td>\n",
              "      <td>NaN</td>\n",
              "      <td>NaN</td>\n",
              "      <td>NaN</td>\n",
              "      <td>NaN</td>\n",
              "      <td>NaN</td>\n",
              "      <td>NaN</td>\n",
              "      <td>NaN</td>\n",
              "      <td>NaN</td>\n",
              "    </tr>\n",
              "    <tr>\n",
              "      <th>188</th>\n",
              "      <td>Overton County</td>\n",
              "      <td>R.E.A.C.H. Academy</td>\n",
              "      <td>NaN</td>\n",
              "      <td>NaN</td>\n",
              "      <td>NaN</td>\n",
              "      <td>NaN</td>\n",
              "      <td>NaN</td>\n",
              "      <td>NaN</td>\n",
              "      <td>NaN</td>\n",
              "      <td>NaN</td>\n",
              "      <td>NaN</td>\n",
              "      <td>NaN</td>\n",
              "      <td>NaN</td>\n",
              "      <td>NaN</td>\n",
              "      <td>NaN</td>\n",
              "      <td>NaN</td>\n",
              "      <td>NaN</td>\n",
              "      <td>NaN</td>\n",
              "      <td>NaN</td>\n",
              "      <td>NaN</td>\n",
              "    </tr>\n",
              "    <tr>\n",
              "      <th>192</th>\n",
              "      <td>Putnam County</td>\n",
              "      <td>Putnam Co Adult High School</td>\n",
              "      <td>NaN</td>\n",
              "      <td>NaN</td>\n",
              "      <td>NaN</td>\n",
              "      <td>NaN</td>\n",
              "      <td>NaN</td>\n",
              "      <td>NaN</td>\n",
              "      <td>NaN</td>\n",
              "      <td>NaN</td>\n",
              "      <td>NaN</td>\n",
              "      <td>NaN</td>\n",
              "      <td>NaN</td>\n",
              "      <td>NaN</td>\n",
              "      <td>NaN</td>\n",
              "      <td>NaN</td>\n",
              "      <td>NaN</td>\n",
              "      <td>NaN</td>\n",
              "      <td>NaN</td>\n",
              "      <td>NaN</td>\n",
              "    </tr>\n",
              "    <tr>\n",
              "      <th>206</th>\n",
              "      <td>Rutherford County</td>\n",
              "      <td>Rutherford County Adult High School</td>\n",
              "      <td>NaN</td>\n",
              "      <td>NaN</td>\n",
              "      <td>NaN</td>\n",
              "      <td>NaN</td>\n",
              "      <td>NaN</td>\n",
              "      <td>NaN</td>\n",
              "      <td>NaN</td>\n",
              "      <td>NaN</td>\n",
              "      <td>NaN</td>\n",
              "      <td>NaN</td>\n",
              "      <td>NaN</td>\n",
              "      <td>NaN</td>\n",
              "      <td>NaN</td>\n",
              "      <td>NaN</td>\n",
              "      <td>NaN</td>\n",
              "      <td>NaN</td>\n",
              "      <td>NaN</td>\n",
              "      <td>NaN</td>\n",
              "    </tr>\n",
              "    <tr>\n",
              "      <th>218</th>\n",
              "      <td>Sevier County</td>\n",
              "      <td>Whites Adult High School</td>\n",
              "      <td>NaN</td>\n",
              "      <td>NaN</td>\n",
              "      <td>NaN</td>\n",
              "      <td>NaN</td>\n",
              "      <td>NaN</td>\n",
              "      <td>NaN</td>\n",
              "      <td>NaN</td>\n",
              "      <td>NaN</td>\n",
              "      <td>NaN</td>\n",
              "      <td>NaN</td>\n",
              "      <td>NaN</td>\n",
              "      <td>NaN</td>\n",
              "      <td>NaN</td>\n",
              "      <td>17.1</td>\n",
              "      <td>16.3</td>\n",
              "      <td>17.7</td>\n",
              "      <td>16.9</td>\n",
              "      <td>17.0</td>\n",
              "    </tr>\n",
              "  </tbody>\n",
              "</table>\n",
              "</div>"
            ],
            "text/plain": [
              "         district_name  ... act_3yr_science\n",
              "1      Anderson County  ...             NaN\n",
              "7        Benton County  ...             NaN\n",
              "8        Benton County  ...             NaN\n",
              "15      Bradley County  ...             NaN\n",
              "18     Campbell County  ...             NaN\n",
              "29     Cheatham County  ...             NaN\n",
              "33    Claiborne County  ...             NaN\n",
              "37         Clay County  ...             NaN\n",
              "72      Dickson County  ...             NaN\n",
              "94       Grundy County  ...             NaN\n",
              "118     Houston County  ...             NaN\n",
              "127        Knox County  ...             NaN\n",
              "137        Knox County  ...             NaN\n",
              "144        Knox County  ...             NaN\n",
              "148    Lawrence County  ...            16.5\n",
              "187     Overton County  ...             NaN\n",
              "188     Overton County  ...             NaN\n",
              "192      Putnam County  ...             NaN\n",
              "206  Rutherford County  ...             NaN\n",
              "218      Sevier County  ...            17.0\n",
              "\n",
              "[20 rows x 20 columns]"
            ]
          },
          "metadata": {
            "tags": []
          },
          "execution_count": 15
        }
      ]
    },
    {
      "cell_type": "markdown",
      "metadata": {
        "id": "dNsEnesXohz9",
        "colab_type": "text"
      },
      "source": [
        " ## Omit them."
      ]
    },
    {
      "cell_type": "code",
      "metadata": {
        "id": "0zs7xhV4osCy",
        "colab_type": "code",
        "outputId": "b9bdaad1-decd-4960-8e17-a94e49734fb3",
        "colab": {
          "base_uri": "https://localhost:8080/",
          "height": 309
        }
      },
      "source": [
        "HSData2015 = HSData2015[HSData2015['total'].notnull()]\n",
        "HSData2015.sample(5)"
      ],
      "execution_count": 0,
      "outputs": [
        {
          "output_type": "execute_result",
          "data": {
            "text/html": [
              "<div>\n",
              "<style scoped>\n",
              "    .dataframe tbody tr th:only-of-type {\n",
              "        vertical-align: middle;\n",
              "    }\n",
              "\n",
              "    .dataframe tbody tr th {\n",
              "        vertical-align: top;\n",
              "    }\n",
              "\n",
              "    .dataframe thead th {\n",
              "        text-align: right;\n",
              "    }\n",
              "</style>\n",
              "<table border=\"1\" class=\"dataframe\">\n",
              "  <thead>\n",
              "    <tr style=\"text-align: right;\">\n",
              "      <th></th>\n",
              "      <th>district_name</th>\n",
              "      <th>school_name</th>\n",
              "      <th>total</th>\n",
              "      <th>white_pct</th>\n",
              "      <th>african_american_pct</th>\n",
              "      <th>hispanic_pct</th>\n",
              "      <th>asian_pct</th>\n",
              "      <th>limited_english_proficient_pct</th>\n",
              "      <th>students_with_disabilities_pct</th>\n",
              "      <th>economically_disadvantaged_pct</th>\n",
              "      <th>attendance_rate_pct</th>\n",
              "      <th>all_grad_rate</th>\n",
              "      <th>economically_disadvantaged_grad_rate</th>\n",
              "      <th>students_with_disabilities_grad_rate</th>\n",
              "      <th>limited_english_proficient_grad_rate</th>\n",
              "      <th>act_3yr_composite</th>\n",
              "      <th>act_3yr_english</th>\n",
              "      <th>act_3yr_math</th>\n",
              "      <th>act_3yr_reading</th>\n",
              "      <th>act_3yr_science</th>\n",
              "    </tr>\n",
              "  </thead>\n",
              "  <tbody>\n",
              "    <tr>\n",
              "      <th>182</th>\n",
              "      <td>Morgan County</td>\n",
              "      <td>Central High School</td>\n",
              "      <td>416.0</td>\n",
              "      <td>98.557692</td>\n",
              "      <td>0.480769</td>\n",
              "      <td>0.480769</td>\n",
              "      <td>NaN</td>\n",
              "      <td>NaN</td>\n",
              "      <td>12.740385</td>\n",
              "      <td>60.576923</td>\n",
              "      <td>95.781638</td>\n",
              "      <td>95.000000</td>\n",
              "      <td>96.153846</td>\n",
              "      <td>81.818182</td>\n",
              "      <td>NaN</td>\n",
              "      <td>17.4</td>\n",
              "      <td>16.8</td>\n",
              "      <td>17.0</td>\n",
              "      <td>18.0</td>\n",
              "      <td>17.5</td>\n",
              "    </tr>\n",
              "    <tr>\n",
              "      <th>92</th>\n",
              "      <td>Greene County</td>\n",
              "      <td>West Greene High School</td>\n",
              "      <td>667.0</td>\n",
              "      <td>97.301349</td>\n",
              "      <td>1.04948</td>\n",
              "      <td>1.049475</td>\n",
              "      <td>0.149925</td>\n",
              "      <td>0.149925</td>\n",
              "      <td>14.242879</td>\n",
              "      <td>60.179641</td>\n",
              "      <td>94.640123</td>\n",
              "      <td>91.823899</td>\n",
              "      <td>91.304348</td>\n",
              "      <td>86.206897</td>\n",
              "      <td>100.0</td>\n",
              "      <td>18.3</td>\n",
              "      <td>17.5</td>\n",
              "      <td>17.9</td>\n",
              "      <td>18.7</td>\n",
              "      <td>18.4</td>\n",
              "    </tr>\n",
              "    <tr>\n",
              "      <th>217</th>\n",
              "      <td>Sevier County</td>\n",
              "      <td>Seymour High School</td>\n",
              "      <td>1155.0</td>\n",
              "      <td>95.064935</td>\n",
              "      <td>1.81818</td>\n",
              "      <td>1.991342</td>\n",
              "      <td>0.432900</td>\n",
              "      <td>0.086580</td>\n",
              "      <td>6.406926</td>\n",
              "      <td>41.038961</td>\n",
              "      <td>94.732143</td>\n",
              "      <td>91.666667</td>\n",
              "      <td>85.833333</td>\n",
              "      <td>63.157895</td>\n",
              "      <td>100.0</td>\n",
              "      <td>20.2</td>\n",
              "      <td>20.3</td>\n",
              "      <td>19.6</td>\n",
              "      <td>20.5</td>\n",
              "      <td>20.2</td>\n",
              "    </tr>\n",
              "    <tr>\n",
              "      <th>169</th>\n",
              "      <td>Maury County</td>\n",
              "      <td>Spring Hill High School</td>\n",
              "      <td>992.0</td>\n",
              "      <td>75.604839</td>\n",
              "      <td>15.2218</td>\n",
              "      <td>7.762097</td>\n",
              "      <td>1.310484</td>\n",
              "      <td>0.907258</td>\n",
              "      <td>11.088710</td>\n",
              "      <td>38.306452</td>\n",
              "      <td>95.740365</td>\n",
              "      <td>95.780591</td>\n",
              "      <td>92.592593</td>\n",
              "      <td>96.428571</td>\n",
              "      <td>100.0</td>\n",
              "      <td>18.9</td>\n",
              "      <td>18.1</td>\n",
              "      <td>18.6</td>\n",
              "      <td>19.3</td>\n",
              "      <td>19.0</td>\n",
              "    </tr>\n",
              "    <tr>\n",
              "      <th>197</th>\n",
              "      <td>Roane County</td>\n",
              "      <td>Roane County High School</td>\n",
              "      <td>732.0</td>\n",
              "      <td>93.852459</td>\n",
              "      <td>2.86885</td>\n",
              "      <td>1.639344</td>\n",
              "      <td>0.956284</td>\n",
              "      <td>NaN</td>\n",
              "      <td>11.065574</td>\n",
              "      <td>37.841530</td>\n",
              "      <td>98.410405</td>\n",
              "      <td>95.714286</td>\n",
              "      <td>93.939394</td>\n",
              "      <td>76.470588</td>\n",
              "      <td>NaN</td>\n",
              "      <td>20.2</td>\n",
              "      <td>20.0</td>\n",
              "      <td>19.7</td>\n",
              "      <td>20.9</td>\n",
              "      <td>19.8</td>\n",
              "    </tr>\n",
              "  </tbody>\n",
              "</table>\n",
              "</div>"
            ],
            "text/plain": [
              "     district_name               school_name  ...  act_3yr_reading  act_3yr_science\n",
              "182  Morgan County       Central High School  ...             18.0             17.5\n",
              "92   Greene County   West Greene High School  ...             18.7             18.4\n",
              "217  Sevier County       Seymour High School  ...             20.5             20.2\n",
              "169   Maury County   Spring Hill High School  ...             19.3             19.0\n",
              "197   Roane County  Roane County High School  ...             20.9             19.8\n",
              "\n",
              "[5 rows x 20 columns]"
            ]
          },
          "metadata": {
            "tags": []
          },
          "execution_count": 16
        }
      ]
    },
    {
      "cell_type": "markdown",
      "metadata": {
        "id": "LHCHyrXnrLSn",
        "colab_type": "text"
      },
      "source": [
        "## Fill remaining NaN with zeros."
      ]
    },
    {
      "cell_type": "code",
      "metadata": {
        "id": "yW0wyQk-rmYX",
        "colab_type": "code",
        "outputId": "506610e5-effd-49a3-a2ce-0b20322e2261",
        "colab": {
          "base_uri": "https://localhost:8080/",
          "height": 343
        }
      },
      "source": [
        "HSData2015.fillna(0, inplace = True)\n",
        "HSData2015.head()"
      ],
      "execution_count": 0,
      "outputs": [
        {
          "output_type": "execute_result",
          "data": {
            "text/html": [
              "<div>\n",
              "<style scoped>\n",
              "    .dataframe tbody tr th:only-of-type {\n",
              "        vertical-align: middle;\n",
              "    }\n",
              "\n",
              "    .dataframe tbody tr th {\n",
              "        vertical-align: top;\n",
              "    }\n",
              "\n",
              "    .dataframe thead th {\n",
              "        text-align: right;\n",
              "    }\n",
              "</style>\n",
              "<table border=\"1\" class=\"dataframe\">\n",
              "  <thead>\n",
              "    <tr style=\"text-align: right;\">\n",
              "      <th></th>\n",
              "      <th>district_name</th>\n",
              "      <th>school_name</th>\n",
              "      <th>total</th>\n",
              "      <th>white_pct</th>\n",
              "      <th>african_american_pct</th>\n",
              "      <th>hispanic_pct</th>\n",
              "      <th>asian_pct</th>\n",
              "      <th>limited_english_proficient_pct</th>\n",
              "      <th>students_with_disabilities_pct</th>\n",
              "      <th>economically_disadvantaged_pct</th>\n",
              "      <th>attendance_rate_pct</th>\n",
              "      <th>all_grad_rate</th>\n",
              "      <th>economically_disadvantaged_grad_rate</th>\n",
              "      <th>students_with_disabilities_grad_rate</th>\n",
              "      <th>limited_english_proficient_grad_rate</th>\n",
              "      <th>act_3yr_composite</th>\n",
              "      <th>act_3yr_english</th>\n",
              "      <th>act_3yr_math</th>\n",
              "      <th>act_3yr_reading</th>\n",
              "      <th>act_3yr_science</th>\n",
              "    </tr>\n",
              "  </thead>\n",
              "  <tbody>\n",
              "    <tr>\n",
              "      <th>0</th>\n",
              "      <td>Anderson County</td>\n",
              "      <td>Anderson County High School</td>\n",
              "      <td>1058.0</td>\n",
              "      <td>98.204159</td>\n",
              "      <td>0.47259</td>\n",
              "      <td>0.283554</td>\n",
              "      <td>0.472590</td>\n",
              "      <td>0.000000</td>\n",
              "      <td>12.948960</td>\n",
              "      <td>43.950851</td>\n",
              "      <td>95.384615</td>\n",
              "      <td>97.925311</td>\n",
              "      <td>96.428571</td>\n",
              "      <td>96.969697</td>\n",
              "      <td>0.0</td>\n",
              "      <td>19.5</td>\n",
              "      <td>18.9</td>\n",
              "      <td>19.5</td>\n",
              "      <td>19.4</td>\n",
              "      <td>19.7</td>\n",
              "    </tr>\n",
              "    <tr>\n",
              "      <th>2</th>\n",
              "      <td>Anderson County</td>\n",
              "      <td>Clinton High School</td>\n",
              "      <td>1113.0</td>\n",
              "      <td>92.632525</td>\n",
              "      <td>5.30099</td>\n",
              "      <td>1.078167</td>\n",
              "      <td>0.539084</td>\n",
              "      <td>0.179695</td>\n",
              "      <td>14.734951</td>\n",
              "      <td>50.404313</td>\n",
              "      <td>94.408799</td>\n",
              "      <td>96.703297</td>\n",
              "      <td>94.610778</td>\n",
              "      <td>90.000000</td>\n",
              "      <td>100.0</td>\n",
              "      <td>19.3</td>\n",
              "      <td>19.1</td>\n",
              "      <td>18.5</td>\n",
              "      <td>19.6</td>\n",
              "      <td>19.3</td>\n",
              "    </tr>\n",
              "    <tr>\n",
              "      <th>3</th>\n",
              "      <td>Oak Ridge</td>\n",
              "      <td>Oak Ridge High School</td>\n",
              "      <td>1389.0</td>\n",
              "      <td>73.650108</td>\n",
              "      <td>14.9748</td>\n",
              "      <td>6.623470</td>\n",
              "      <td>4.103672</td>\n",
              "      <td>1.007919</td>\n",
              "      <td>12.455004</td>\n",
              "      <td>38.572459</td>\n",
              "      <td>95.269287</td>\n",
              "      <td>90.000000</td>\n",
              "      <td>82.307692</td>\n",
              "      <td>82.692308</td>\n",
              "      <td>75.0</td>\n",
              "      <td>23.0</td>\n",
              "      <td>22.8</td>\n",
              "      <td>22.6</td>\n",
              "      <td>23.3</td>\n",
              "      <td>22.8</td>\n",
              "    </tr>\n",
              "    <tr>\n",
              "      <th>4</th>\n",
              "      <td>Bedford County</td>\n",
              "      <td>Cascade High School</td>\n",
              "      <td>533.0</td>\n",
              "      <td>87.054409</td>\n",
              "      <td>4.69043</td>\n",
              "      <td>5.440901</td>\n",
              "      <td>1.313321</td>\n",
              "      <td>0.750469</td>\n",
              "      <td>10.131332</td>\n",
              "      <td>43.339587</td>\n",
              "      <td>94.962687</td>\n",
              "      <td>95.041322</td>\n",
              "      <td>92.537313</td>\n",
              "      <td>90.000000</td>\n",
              "      <td>0.0</td>\n",
              "      <td>19.0</td>\n",
              "      <td>18.6</td>\n",
              "      <td>18.5</td>\n",
              "      <td>19.1</td>\n",
              "      <td>19.0</td>\n",
              "    </tr>\n",
              "    <tr>\n",
              "      <th>5</th>\n",
              "      <td>Bedford County</td>\n",
              "      <td>Shelbyville Central High School</td>\n",
              "      <td>1290.0</td>\n",
              "      <td>61.240310</td>\n",
              "      <td>15.4264</td>\n",
              "      <td>22.868217</td>\n",
              "      <td>0.232558</td>\n",
              "      <td>4.728682</td>\n",
              "      <td>10.620155</td>\n",
              "      <td>67.494182</td>\n",
              "      <td>94.988067</td>\n",
              "      <td>92.434211</td>\n",
              "      <td>90.277778</td>\n",
              "      <td>82.857143</td>\n",
              "      <td>95.0</td>\n",
              "      <td>17.8</td>\n",
              "      <td>17.2</td>\n",
              "      <td>18.0</td>\n",
              "      <td>17.8</td>\n",
              "      <td>18.0</td>\n",
              "    </tr>\n",
              "  </tbody>\n",
              "</table>\n",
              "</div>"
            ],
            "text/plain": [
              "     district_name  ... act_3yr_science\n",
              "0  Anderson County  ...            19.7\n",
              "2  Anderson County  ...            19.3\n",
              "3        Oak Ridge  ...            22.8\n",
              "4   Bedford County  ...            19.0\n",
              "5   Bedford County  ...            18.0\n",
              "\n",
              "[5 rows x 20 columns]"
            ]
          },
          "metadata": {
            "tags": []
          },
          "execution_count": 17
        }
      ]
    },
    {
      "cell_type": "markdown",
      "metadata": {
        "id": "Utzh6lUysm9b",
        "colab_type": "text"
      },
      "source": [
        "## Correct the corrupted data in african_american_pct\n"
      ]
    },
    {
      "cell_type": "code",
      "metadata": {
        "id": "kbzM26Bw-2o1",
        "colab_type": "code",
        "outputId": "981b34c4-eb0b-4c59-8314-9178d4edd8c6",
        "colab": {
          "base_uri": "https://localhost:8080/",
          "height": 613
        }
      },
      "source": [
        "Corruption = 'Grades 7-12'\n",
        "Target = HSData2015.loc[HSData2015['african_american_pct'].str.isdigit().notnull()].african_american_pct.iloc[0]\n",
        "Position = Target.find(Corruption)\n",
        "Correction = float(Target[0:Position] + Target[Position + len(Corruption)-1:])\n",
        "HSData2015.loc[HSData2015['african_american_pct'].str.isdigit().notnull(),'african_american_pct'] = Correction"
      ],
      "execution_count": 0,
      "outputs": [
        {
          "output_type": "error",
          "ename": "IndexError",
          "evalue": "ignored",
          "traceback": [
            "\u001b[0;31m---------------------------------------------------------------------------\u001b[0m",
            "\u001b[0;31mIndexError\u001b[0m                                Traceback (most recent call last)",
            "\u001b[0;32m<ipython-input-25-9f738f8f9edb>\u001b[0m in \u001b[0;36m<module>\u001b[0;34m()\u001b[0m\n\u001b[1;32m      1\u001b[0m \u001b[0mCorruption\u001b[0m \u001b[0;34m=\u001b[0m \u001b[0;34m'Grades 7-12'\u001b[0m\u001b[0;34m\u001b[0m\u001b[0;34m\u001b[0m\u001b[0m\n\u001b[0;32m----> 2\u001b[0;31m \u001b[0mTarget\u001b[0m \u001b[0;34m=\u001b[0m \u001b[0mHSData2015\u001b[0m\u001b[0;34m.\u001b[0m\u001b[0mloc\u001b[0m\u001b[0;34m[\u001b[0m\u001b[0mHSData2015\u001b[0m\u001b[0;34m[\u001b[0m\u001b[0;34m'african_american_pct'\u001b[0m\u001b[0;34m]\u001b[0m\u001b[0;34m.\u001b[0m\u001b[0mstr\u001b[0m\u001b[0;34m.\u001b[0m\u001b[0misdigit\u001b[0m\u001b[0;34m(\u001b[0m\u001b[0;34m)\u001b[0m\u001b[0;34m.\u001b[0m\u001b[0mnotnull\u001b[0m\u001b[0;34m(\u001b[0m\u001b[0;34m)\u001b[0m\u001b[0;34m]\u001b[0m\u001b[0;34m.\u001b[0m\u001b[0mafrican_american_pct\u001b[0m\u001b[0;34m.\u001b[0m\u001b[0miloc\u001b[0m\u001b[0;34m[\u001b[0m\u001b[0;36m0\u001b[0m\u001b[0;34m]\u001b[0m\u001b[0;34m\u001b[0m\u001b[0;34m\u001b[0m\u001b[0m\n\u001b[0m\u001b[1;32m      3\u001b[0m \u001b[0mPosition\u001b[0m \u001b[0;34m=\u001b[0m \u001b[0mTarget\u001b[0m\u001b[0;34m.\u001b[0m\u001b[0mfind\u001b[0m\u001b[0;34m(\u001b[0m\u001b[0mCorruption\u001b[0m\u001b[0;34m)\u001b[0m\u001b[0;34m\u001b[0m\u001b[0;34m\u001b[0m\u001b[0m\n\u001b[1;32m      4\u001b[0m \u001b[0mCorrection\u001b[0m \u001b[0;34m=\u001b[0m \u001b[0mfloat\u001b[0m\u001b[0;34m(\u001b[0m\u001b[0mTarget\u001b[0m\u001b[0;34m[\u001b[0m\u001b[0;36m0\u001b[0m\u001b[0;34m:\u001b[0m\u001b[0mPosition\u001b[0m\u001b[0;34m]\u001b[0m \u001b[0;34m+\u001b[0m \u001b[0mTarget\u001b[0m\u001b[0;34m[\u001b[0m\u001b[0mPosition\u001b[0m \u001b[0;34m+\u001b[0m \u001b[0mlen\u001b[0m\u001b[0;34m(\u001b[0m\u001b[0mCorruption\u001b[0m\u001b[0;34m)\u001b[0m\u001b[0;34m-\u001b[0m\u001b[0;36m1\u001b[0m\u001b[0;34m:\u001b[0m\u001b[0;34m]\u001b[0m\u001b[0;34m)\u001b[0m\u001b[0;34m\u001b[0m\u001b[0;34m\u001b[0m\u001b[0m\n\u001b[1;32m      5\u001b[0m \u001b[0mHSData2015\u001b[0m\u001b[0;34m.\u001b[0m\u001b[0mloc\u001b[0m\u001b[0;34m[\u001b[0m\u001b[0mHSData2015\u001b[0m\u001b[0;34m[\u001b[0m\u001b[0;34m'african_american_pct'\u001b[0m\u001b[0;34m]\u001b[0m\u001b[0;34m.\u001b[0m\u001b[0mstr\u001b[0m\u001b[0;34m.\u001b[0m\u001b[0misdigit\u001b[0m\u001b[0;34m(\u001b[0m\u001b[0;34m)\u001b[0m\u001b[0;34m.\u001b[0m\u001b[0mnotnull\u001b[0m\u001b[0;34m(\u001b[0m\u001b[0;34m)\u001b[0m\u001b[0;34m,\u001b[0m\u001b[0;34m'african_american_pct'\u001b[0m\u001b[0;34m]\u001b[0m \u001b[0;34m=\u001b[0m \u001b[0mCorrection\u001b[0m\u001b[0;34m\u001b[0m\u001b[0;34m\u001b[0m\u001b[0m\n",
            "\u001b[0;32m/usr/local/lib/python3.6/dist-packages/pandas/core/indexing.py\u001b[0m in \u001b[0;36m__getitem__\u001b[0;34m(self, key)\u001b[0m\n\u001b[1;32m   1498\u001b[0m \u001b[0;34m\u001b[0m\u001b[0m\n\u001b[1;32m   1499\u001b[0m             \u001b[0mmaybe_callable\u001b[0m \u001b[0;34m=\u001b[0m \u001b[0mcom\u001b[0m\u001b[0;34m.\u001b[0m\u001b[0mapply_if_callable\u001b[0m\u001b[0;34m(\u001b[0m\u001b[0mkey\u001b[0m\u001b[0;34m,\u001b[0m \u001b[0mself\u001b[0m\u001b[0;34m.\u001b[0m\u001b[0mobj\u001b[0m\u001b[0;34m)\u001b[0m\u001b[0;34m\u001b[0m\u001b[0;34m\u001b[0m\u001b[0m\n\u001b[0;32m-> 1500\u001b[0;31m             \u001b[0;32mreturn\u001b[0m \u001b[0mself\u001b[0m\u001b[0;34m.\u001b[0m\u001b[0m_getitem_axis\u001b[0m\u001b[0;34m(\u001b[0m\u001b[0mmaybe_callable\u001b[0m\u001b[0;34m,\u001b[0m \u001b[0maxis\u001b[0m\u001b[0;34m=\u001b[0m\u001b[0maxis\u001b[0m\u001b[0;34m)\u001b[0m\u001b[0;34m\u001b[0m\u001b[0;34m\u001b[0m\u001b[0m\n\u001b[0m\u001b[1;32m   1501\u001b[0m \u001b[0;34m\u001b[0m\u001b[0m\n\u001b[1;32m   1502\u001b[0m     \u001b[0;32mdef\u001b[0m \u001b[0m_is_scalar_access\u001b[0m\u001b[0;34m(\u001b[0m\u001b[0mself\u001b[0m\u001b[0;34m,\u001b[0m \u001b[0mkey\u001b[0m\u001b[0;34m)\u001b[0m\u001b[0;34m:\u001b[0m\u001b[0;34m\u001b[0m\u001b[0;34m\u001b[0m\u001b[0m\n",
            "\u001b[0;32m/usr/local/lib/python3.6/dist-packages/pandas/core/indexing.py\u001b[0m in \u001b[0;36m_getitem_axis\u001b[0;34m(self, key, axis)\u001b[0m\n\u001b[1;32m   2228\u001b[0m \u001b[0;34m\u001b[0m\u001b[0m\n\u001b[1;32m   2229\u001b[0m             \u001b[0;31m# validate the location\u001b[0m\u001b[0;34m\u001b[0m\u001b[0;34m\u001b[0m\u001b[0;34m\u001b[0m\u001b[0m\n\u001b[0;32m-> 2230\u001b[0;31m             \u001b[0mself\u001b[0m\u001b[0;34m.\u001b[0m\u001b[0m_validate_integer\u001b[0m\u001b[0;34m(\u001b[0m\u001b[0mkey\u001b[0m\u001b[0;34m,\u001b[0m \u001b[0maxis\u001b[0m\u001b[0;34m)\u001b[0m\u001b[0;34m\u001b[0m\u001b[0;34m\u001b[0m\u001b[0m\n\u001b[0m\u001b[1;32m   2231\u001b[0m \u001b[0;34m\u001b[0m\u001b[0m\n\u001b[1;32m   2232\u001b[0m             \u001b[0;32mreturn\u001b[0m \u001b[0mself\u001b[0m\u001b[0;34m.\u001b[0m\u001b[0m_get_loc\u001b[0m\u001b[0;34m(\u001b[0m\u001b[0mkey\u001b[0m\u001b[0;34m,\u001b[0m \u001b[0maxis\u001b[0m\u001b[0;34m=\u001b[0m\u001b[0maxis\u001b[0m\u001b[0;34m)\u001b[0m\u001b[0;34m\u001b[0m\u001b[0;34m\u001b[0m\u001b[0m\n",
            "\u001b[0;32m/usr/local/lib/python3.6/dist-packages/pandas/core/indexing.py\u001b[0m in \u001b[0;36m_validate_integer\u001b[0;34m(self, key, axis)\u001b[0m\n\u001b[1;32m   2137\u001b[0m         \u001b[0mlen_axis\u001b[0m \u001b[0;34m=\u001b[0m \u001b[0mlen\u001b[0m\u001b[0;34m(\u001b[0m\u001b[0mself\u001b[0m\u001b[0;34m.\u001b[0m\u001b[0mobj\u001b[0m\u001b[0;34m.\u001b[0m\u001b[0m_get_axis\u001b[0m\u001b[0;34m(\u001b[0m\u001b[0maxis\u001b[0m\u001b[0;34m)\u001b[0m\u001b[0;34m)\u001b[0m\u001b[0;34m\u001b[0m\u001b[0;34m\u001b[0m\u001b[0m\n\u001b[1;32m   2138\u001b[0m         \u001b[0;32mif\u001b[0m \u001b[0mkey\u001b[0m \u001b[0;34m>=\u001b[0m \u001b[0mlen_axis\u001b[0m \u001b[0;32mor\u001b[0m \u001b[0mkey\u001b[0m \u001b[0;34m<\u001b[0m \u001b[0;34m-\u001b[0m\u001b[0mlen_axis\u001b[0m\u001b[0;34m:\u001b[0m\u001b[0;34m\u001b[0m\u001b[0;34m\u001b[0m\u001b[0m\n\u001b[0;32m-> 2139\u001b[0;31m             \u001b[0;32mraise\u001b[0m \u001b[0mIndexError\u001b[0m\u001b[0;34m(\u001b[0m\u001b[0;34m\"single positional indexer is out-of-bounds\"\u001b[0m\u001b[0;34m)\u001b[0m\u001b[0;34m\u001b[0m\u001b[0;34m\u001b[0m\u001b[0m\n\u001b[0m\u001b[1;32m   2140\u001b[0m \u001b[0;34m\u001b[0m\u001b[0m\n\u001b[1;32m   2141\u001b[0m     \u001b[0;32mdef\u001b[0m \u001b[0m_getitem_tuple\u001b[0m\u001b[0;34m(\u001b[0m\u001b[0mself\u001b[0m\u001b[0;34m,\u001b[0m \u001b[0mtup\u001b[0m\u001b[0;34m)\u001b[0m\u001b[0;34m:\u001b[0m\u001b[0;34m\u001b[0m\u001b[0;34m\u001b[0m\u001b[0m\n",
            "\u001b[0;31mIndexError\u001b[0m: single positional indexer is out-of-bounds"
          ]
        }
      ]
    },
    {
      "cell_type": "markdown",
      "metadata": {
        "id": "sfOrhCQXY17Q",
        "colab_type": "text"
      },
      "source": [
        "## Create a new dataframe representing only the 5 largest Metropolitan school districts. Call it 'HSLargeData2015'."
      ]
    },
    {
      "cell_type": "code",
      "metadata": {
        "id": "99fsQLK0ZPTK",
        "colab_type": "code",
        "colab": {}
      },
      "source": [
        "HSLargeData2015 = HSData2015[(HSData2015['district_name'] == 'Davidson County') | (HSData2015['district_name'] == 'Knox County') \n",
        "| (HSData2015['district_name'] == 'Shelby County') | (HSData2015['district_name'] == 'Hamilton County') \n",
        "| (HSData2015['district_name'] == 'Montgomery County')]"
      ],
      "execution_count": 0,
      "outputs": []
    },
    {
      "cell_type": "markdown",
      "metadata": {
        "id": "zDVJCm2DEhYy",
        "colab_type": "text"
      },
      "source": [
        "## Let's consider some basic plots ... provided by matplotlib and seaborn.\n",
        "\n",
        "We need to import matplotlib.pyplot with alias plt (which is standard).\n",
        "\n",
        "We will import seaborn as sns (also standard).\n",
        "\n",
        "We will also use a 'magic' function indicated by '%' to indicate that we would like our plots to be viewed inline (or included in our Colab Notebooks)."
      ]
    },
    {
      "cell_type": "code",
      "metadata": {
        "id": "6ij2L0J0BEtZ",
        "colab_type": "code",
        "colab": {}
      },
      "source": [
        "import matplotlib.pyplot as plt\n",
        "import seaborn as sns\n",
        "%matplotlib inline\n",
        "\n",
        "# Restrict the dataframe to only those schools with reported act scores.\n",
        "HSData2015 = HSData2015[HSData2015['act_3yr_composite'] != 0]"
      ],
      "execution_count": 0,
      "outputs": []
    },
    {
      "cell_type": "code",
      "metadata": {
        "id": "Ga0gS0zhA5jX",
        "colab_type": "code",
        "outputId": "07292273-721e-4de8-fa2c-5aae16f7462b",
        "colab": {
          "base_uri": "https://localhost:8080/",
          "height": 170
        }
      },
      "source": [
        "HSData2015['all_grad_rate'].describe()"
      ],
      "execution_count": 0,
      "outputs": [
        {
          "output_type": "execute_result",
          "data": {
            "text/plain": [
              "count    268.000000\n",
              "mean      87.666688\n",
              "std       13.386767\n",
              "min        0.000000\n",
              "25%       85.463490\n",
              "50%       91.111111\n",
              "75%       95.010331\n",
              "max      100.000000\n",
              "Name: all_grad_rate, dtype: float64"
            ]
          },
          "metadata": {
            "tags": []
          },
          "execution_count": 31
        }
      ]
    },
    {
      "cell_type": "code",
      "metadata": {
        "id": "CGMPBv3PLuOx",
        "colab_type": "code",
        "outputId": "83a5972d-fb67-4fce-9214-e93a6ade75dd",
        "colab": {
          "base_uri": "https://localhost:8080/",
          "height": 298
        }
      },
      "source": [
        "HSData2015['all_grad_rate'].plot.hist(figsize = (10,4), bins = 30, color = 'green')\n",
        "plt.title('Distribution of High Schools by all_grad_rate', fontweight = 'bold')"
      ],
      "execution_count": 0,
      "outputs": [
        {
          "output_type": "execute_result",
          "data": {
            "text/plain": [
              "Text(0.5, 1.0, 'Distribution of High Schools by all_grad_rate')"
            ]
          },
          "metadata": {
            "tags": []
          },
          "execution_count": 32
        },
        {
          "output_type": "display_data",
          "data": {
            "image/png": "[encoded data removed]",
            "text/plain": [
              "<Figure size 720x288 with 1 Axes>"
            ]
          },
          "metadata": {
            "tags": []
          }
        }
      ]
    },
    {
      "cell_type": "markdown",
      "metadata": {
        "id": "wpMf877nZ0WQ",
        "colab_type": "text"
      },
      "source": [
        "## Assignment #1\n",
        "\n",
        "In the next 2 cells, create view the basic statistics and create the histogram for 'all_grad_rate' for the HSLargeData2015 dataframe."
      ]
    },
    {
      "cell_type": "code",
      "metadata": {
        "id": "_cypFyv0b0PU",
        "colab_type": "code",
        "outputId": "0419709e-58ef-48d5-f4ce-2e2be8cecd97",
        "colab": {
          "base_uri": "https://localhost:8080/",
          "height": 170
        }
      },
      "source": [
        "HSLargeData2015['all_grad_rate'].describe()"
      ],
      "execution_count": 0,
      "outputs": [
        {
          "output_type": "execute_result",
          "data": {
            "text/plain": [
              "count     91.000000\n",
              "mean      74.495507\n",
              "std       26.739256\n",
              "min        0.000000\n",
              "25%       68.097509\n",
              "50%       83.412322\n",
              "75%       92.919374\n",
              "max      100.000000\n",
              "Name: all_grad_rate, dtype: float64"
            ]
          },
          "metadata": {
            "tags": []
          },
          "execution_count": 34
        }
      ]
    },
    {
      "cell_type": "code",
      "metadata": {
        "id": "JZIR3EELb0eL",
        "colab_type": "code",
        "outputId": "337a0742-5961-4002-89d0-f8ad6f63d5c5",
        "colab": {
          "base_uri": "https://localhost:8080/",
          "height": 298
        }
      },
      "source": [
        "HSLargeData2015['all_grad_rate'].plot.hist(figsize = (10,4), bins = 30, color = 'green')\n",
        "plt.title('Distribution of High Schools by all_grad_rate', fontweight = 'bold')"
      ],
      "execution_count": 0,
      "outputs": [
        {
          "output_type": "execute_result",
          "data": {
            "text/plain": [
              "Text(0.5, 1.0, 'Distribution of High Schools by all_grad_rate')"
            ]
          },
          "metadata": {
            "tags": []
          },
          "execution_count": 35
        },
        {
          "output_type": "display_data",
          "data": {
            "image/png": "[encoded data removed]",
            "text/plain": [
              "<Figure size 720x288 with 1 Axes>"
            ]
          },
          "metadata": {
            "tags": []
          }
        }
      ]
    },
    {
      "cell_type": "markdown",
      "metadata": {
        "id": "Jq5I4qjJb2l-",
        "colab_type": "text"
      },
      "source": [
        "## Assignment #2\n",
        "\n",
        "Make note of similarities/differences from the previous stats/histogram.\n",
        "\n",
        "Your comments here:\n",
        "\n",
        "Similarities: Both of these histograms have 0s and then skip to around 43 and then spike up at around 80 to 100. \n",
        "\n",
        "Differences: HSLargeData2015 has more of a significant spike at around 85; whereas, HSData2015 has a significant spike at around 90.\n",
        "\n",
        "..."
      ]
    },
    {
      "cell_type": "code",
      "metadata": {
        "id": "XE9xehLoDgzO",
        "colab_type": "code",
        "outputId": "4cc1c03e-61c1-43db-e771-f9e4e4a479b1",
        "colab": {
          "base_uri": "https://localhost:8080/",
          "height": 170
        }
      },
      "source": [
        "HSData2015['act_3yr_composite'].describe()     "
      ],
      "execution_count": 0,
      "outputs": [
        {
          "output_type": "execute_result",
          "data": {
            "text/plain": [
              "count    268.000000\n",
              "mean      18.639179\n",
              "std        2.233737\n",
              "min       13.300000\n",
              "25%       17.600000\n",
              "50%       18.700000\n",
              "75%       19.800000\n",
              "max       27.400000\n",
              "Name: act_3yr_composite, dtype: float64"
            ]
          },
          "metadata": {
            "tags": []
          },
          "execution_count": 36
        }
      ]
    },
    {
      "cell_type": "code",
      "metadata": {
        "id": "tAIRWwKNL_I1",
        "colab_type": "code",
        "outputId": "f72c9108-4cea-46e5-bfac-68c5b678cdc3",
        "colab": {
          "base_uri": "https://localhost:8080/",
          "height": 298
        }
      },
      "source": [
        "HSData2015['act_3yr_composite'].plot.hist(figsize = (10,4), bins = 30, color = 'green')\n",
        "plt.title('Distribution of High Schools by act_3yr_composite', fontweight = 'bold')"
      ],
      "execution_count": 0,
      "outputs": [
        {
          "output_type": "execute_result",
          "data": {
            "text/plain": [
              "Text(0.5, 1.0, 'Distribution of High Schools by act_3yr_composite')"
            ]
          },
          "metadata": {
            "tags": []
          },
          "execution_count": 37
        },
        {
          "output_type": "display_data",
          "data": {
            "image/png": "[encoded data removed]",
            "text/plain": [
              "<Figure size 720x288 with 1 Axes>"
            ]
          },
          "metadata": {
            "tags": []
          }
        }
      ]
    },
    {
      "cell_type": "markdown",
      "metadata": {
        "id": "Uj2aIIG9cZSF",
        "colab_type": "text"
      },
      "source": [
        "## Assignment #3\n",
        "\n",
        "In the next 2 cells, create view the basic statistics and create the histogram for 'act_3yr_composite' for the HSLargeData2015 dataframe."
      ]
    },
    {
      "cell_type": "code",
      "metadata": {
        "id": "rVamjJKEcZte",
        "colab_type": "code",
        "outputId": "b8c58b9b-6c82-4c50-8f41-0101a3592d72",
        "colab": {
          "base_uri": "https://localhost:8080/",
          "height": 170
        }
      },
      "source": [
        "HSLargeData2015['act_3yr_composite'].describe()"
      ],
      "execution_count": 0,
      "outputs": [
        {
          "output_type": "execute_result",
          "data": {
            "text/plain": [
              "count    91.000000\n",
              "mean     16.275824\n",
              "std       5.058312\n",
              "min       0.000000\n",
              "25%      15.100000\n",
              "50%      16.600000\n",
              "75%      18.950000\n",
              "max      27.400000\n",
              "Name: act_3yr_composite, dtype: float64"
            ]
          },
          "metadata": {
            "tags": []
          },
          "execution_count": 38
        }
      ]
    },
    {
      "cell_type": "code",
      "metadata": {
        "id": "iZSxtAi0cZ0O",
        "colab_type": "code",
        "outputId": "aec5a429-5bfe-406e-87f8-db27bb6a792f",
        "colab": {
          "base_uri": "https://localhost:8080/",
          "height": 298
        }
      },
      "source": [
        "HSLargeData2015['act_3yr_composite'].plot.hist(figsize = (10,4), bins = 30, color = 'green')\n",
        "plt.title('Distribution of High Schools by act_3yr_composite', fontweight = 'bold')"
      ],
      "execution_count": 0,
      "outputs": [
        {
          "output_type": "execute_result",
          "data": {
            "text/plain": [
              "Text(0.5, 1.0, 'Distribution of High Schools by act_3yr_composite')"
            ]
          },
          "metadata": {
            "tags": []
          },
          "execution_count": 39
        },
        {
          "output_type": "display_data",
          "data": {
            "image/png": "[encoded data removed]",
            "text/plain": [
              "<Figure size 720x288 with 1 Axes>"
            ]
          },
          "metadata": {
            "tags": []
          }
        }
      ]
    },
    {
      "cell_type": "markdown",
      "metadata": {
        "id": "FFZPFx2Bcat3",
        "colab_type": "text"
      },
      "source": [
        "## Assignment #4\n",
        "\n",
        "Make note of similarities/differences from the previous stats/histogram.\n",
        "\n",
        "Your comments here:\n",
        "\n",
        "Similarities: Both of these histograms have a significant spike around 15 to 20. \n",
        "\n",
        "Differences: The HSData2015 contains alot more information so it looks like it has less rapid movement between data than the HSLargeData2015 dataset.\n",
        "\n",
        "..."
      ]
    },
    {
      "cell_type": "markdown",
      "metadata": {
        "id": "iO_ISnXMEenz",
        "colab_type": "text"
      },
      "source": [
        "## Considering the relationship between the values from two columns, we can now consider scatter plots. "
      ]
    },
    {
      "cell_type": "code",
      "metadata": {
        "id": "G4FYrxTYCETw",
        "colab_type": "code",
        "outputId": "aa451f90-2293-4e9e-8034-3e4697695acc",
        "colab": {
          "base_uri": "https://localhost:8080/",
          "height": 296
        }
      },
      "source": [
        "# Create a  scatter plot with a few parameters to increase readability\n",
        "plt.scatter(HSData2015['economically_disadvantaged_pct'],HSData2015['act_3yr_composite'], s=25, c='coral', label='2015')\n",
        "\n",
        "plt.legend()\n",
        "plt.title('economically_disadvantaged_pct vs act_3yr_composite', fontweight = 'bold')\n",
        "plt.xlabel('economically_disadvantaged_pct')\n",
        "plt.ylabel('act_3yr_composite')\n",
        "plt.show()"
      ],
      "execution_count": 0,
      "outputs": [
        {
          "output_type": "display_data",
          "data": {
            "image/png": "[encoded data removed]",
            "text/plain": [
              "<Figure size 432x288 with 1 Axes>"
            ]
          },
          "metadata": {
            "tags": []
          }
        }
      ]
    },
    {
      "cell_type": "markdown",
      "metadata": {
        "id": "D1IE53XvdB2b",
        "colab_type": "text"
      },
      "source": [
        "## Assignment #5\n",
        "\n",
        "In the next cell, create a scatter plot for 'economically_disadvantaged_pct vs act_3yr_composite' for the HSLargeData2015 dataframe."
      ]
    },
    {
      "cell_type": "code",
      "metadata": {
        "id": "qElns56udCC-",
        "colab_type": "code",
        "outputId": "71831050-48aa-488b-aa0d-24305479f8c1",
        "colab": {
          "base_uri": "https://localhost:8080/",
          "height": 296
        }
      },
      "source": [
        "plt.scatter(HSLargeData2015['economically_disadvantaged_pct'],HSLargeData2015['act_3yr_composite'], s=25, c='coral', label='2015')\n",
        "\n",
        "plt.legend()\n",
        "plt.title('economically_disadvantaged_pct vs act_3yr_composite', fontweight = 'bold')\n",
        "plt.xlabel('economically_disadvantaged_pct')\n",
        "plt.ylabel('act_3yr_composite')\n",
        "plt.show()"
      ],
      "execution_count": 0,
      "outputs": [
        {
          "output_type": "display_data",
          "data": {
            "image/png": "[encoded data removed]",
            "text/plain": [
              "<Figure size 432x288 with 1 Axes>"
            ]
          },
          "metadata": {
            "tags": []
          }
        }
      ]
    },
    {
      "cell_type": "markdown",
      "metadata": {
        "id": "v1e9OkbadCYi",
        "colab_type": "text"
      },
      "source": [
        "## Assignment #6\n",
        "\n",
        "Make note of similarities/differences from the previous scatter plot.\n",
        "\n",
        "Your comments here:\n",
        "\n",
        "Similarities: Both of these graphs show that as the economically disadvantaged status gets higher, the act score gets lower.\n",
        "\n",
        "Differences: The HSData2015 graph is alot steeper than the HSLargeData2015 graph.\n",
        "\n",
        "\n",
        "..."
      ]
    },
    {
      "cell_type": "code",
      "metadata": {
        "id": "R7tKhS6_Eewx",
        "colab_type": "code",
        "outputId": "1a4e88c5-e24b-4c05-d975-30faad109946",
        "colab": {
          "base_uri": "https://localhost:8080/",
          "height": 562
        }
      },
      "source": [
        "# Create pairplots (a grid of scatter plots and distribution plots)\n",
        "# for each pair of columns listed from a dataframe\n",
        "sns.pairplot(HSData2015[['economically_disadvantaged_pct','act_3yr_reading','act_3yr_math']])"
      ],
      "execution_count": 0,
      "outputs": [
        {
          "output_type": "execute_result",
          "data": {
            "text/plain": [
              "<seaborn.axisgrid.PairGrid at 0x7fe069b0d6d8>"
            ]
          },
          "metadata": {
            "tags": []
          },
          "execution_count": 43
        },
        {
          "output_type": "display_data",
          "data": {
            "image/png": "[encoded data removed]",
            "text/plain": [
              "<Figure size 540x540 with 12 Axes>"
            ]
          },
          "metadata": {
            "tags": []
          }
        }
      ]
    },
    {
      "cell_type": "markdown",
      "metadata": {
        "id": "EbhHGBmvdkvl",
        "colab_type": "text"
      },
      "source": [
        "## Assignment #7\n",
        "\n",
        "In the next cell, create a pairplot for 'economically_disadvantaged_pct','act_3yr_reading', and 'act_3yr_math' for the HSLargeData2015 dataframe."
      ]
    },
    {
      "cell_type": "code",
      "metadata": {
        "id": "rY3MM_8EdlIf",
        "colab_type": "code",
        "outputId": "16537072-a911-40bb-d1e4-37a47ed64ea3",
        "colab": {
          "base_uri": "https://localhost:8080/",
          "height": 562
        }
      },
      "source": [
        "sns.pairplot(HSLargeData2015[['economically_disadvantaged_pct','act_3yr_reading','act_3yr_math']])"
      ],
      "execution_count": 0,
      "outputs": [
        {
          "output_type": "execute_result",
          "data": {
            "text/plain": [
              "<seaborn.axisgrid.PairGrid at 0x7fe0697b0390>"
            ]
          },
          "metadata": {
            "tags": []
          },
          "execution_count": 44
        },
        {
          "output_type": "display_data",
          "data": {
            "image/png": "[encoded data removed]",
            "text/plain": [
              "<Figure size 540x540 with 12 Axes>"
            ]
          },
          "metadata": {
            "tags": []
          }
        }
      ]
    },
    {
      "cell_type": "markdown",
      "metadata": {
        "id": "AOsBnu3gdlYp",
        "colab_type": "text"
      },
      "source": [
        "## Assignment #8\n",
        "\n",
        "Make note of similarities/differences from the previous pairplot.\n",
        "\n",
        "Your comments here:\n",
        "\n",
        "Similarites: Both of these dataset's graphs follow the same overall patterns.\n",
        "\n",
        "Differences: The HSLargeData2015 graphs are alot steeper.\n",
        "\n",
        "\n",
        "..."
      ]
    },
    {
      "cell_type": "markdown",
      "metadata": {
        "id": "f3WOZGCb0EtG",
        "colab_type": "text"
      },
      "source": [
        "## Resources\n",
        "*   pandas documentation: https://pandas.pydata.org/pandas-docs/stable/getting_started/index.html \n",
        "*   StackOverflow: https://stackoverflow.com/ \n",
        "*   Simply Google your question ... pandas Sort dataframe by column value ... then look for the StackOverflow response!\n",
        "*   Another example: pandas select rows by multiple column values\n",
        "*   pandas cheatsheet: http://datacamp-community-prod.s3.amazonaws.com/dbed353d-2757-4617-8206-8767ab379ab3\n",
        "*   Towards Data Science https://towardsdatascience.com/\n",
        "*   Towards Data Science Article: Python's Data Analytics in 20 minutes https://towardsdatascience.com/how-to-master-pandas-8514f33f00f6\n",
        "\n",
        "\n",
        "\n",
        "\n",
        "\n",
        "\n",
        "\n",
        "\n",
        "\n",
        "\n",
        "\n",
        "\n"
      ]
    }
  ]
}